{
 "cells": [
  {
   "cell_type": "markdown",
   "id": "b4573252",
   "metadata": {},
   "source": [
    "## complete code example from julia "
   ]
  },
  {
   "cell_type": "code",
   "execution_count": null,
   "id": "f40ad186",
   "metadata": {},
   "outputs": [],
   "source": [
    "import Pkg\n",
    "using Pkg\n",
    "using JuMP\n",
    "using LinearAlgebra \n",
    "using Juniper\n",
    "using Ipopt"
   ]
  },
  {
   "cell_type": "code",
   "execution_count": 3,
   "id": "5f1c5cb6",
   "metadata": {},
   "outputs": [
    {
     "data": {
      "text/plain": [
       "MathOptInterface.OptimizerWithAttributes(IpoptMathOptInterfaceExt.Optimizer, Pair{MathOptInterface.AbstractOptimizerAttribute, Any}[MathOptInterface.RawOptimizerAttribute(\"print_level\") => 0])"
      ]
     },
     "execution_count": 3,
     "metadata": {},
     "output_type": "execute_result"
    }
   ],
   "source": [
    "optimizer = Juniper.Optimizer\n",
    "nl_solver = optimizer_with_attributes(Ipopt.Optimizer, \"print_level\" => 0)"
   ]
  },
  {
   "cell_type": "code",
   "execution_count": 4,
   "id": "14fe7889",
   "metadata": {},
   "outputs": [
    {
     "name": "stdout",
     "output_type": "stream",
     "text": [
      "nl_solver         : MathOptInterface.OptimizerWithAttributes(IpoptMathOptInterfaceExt.Optimizer, Pair{MathOptInterface.AbstractOptimizerAttribute, Any}[MathOptInterface.RawOptimizerAttribute(\"print_level\") => 0])\n",
      "feasibility_pump  : false\n",
      "log_levels        : [:Options, :Table, :Info]\n",
      "\n",
      "#Variables: 5\n",
      "#IntBinVar: 5\n",
      "Obj Sense: Max\n",
      "\n",
      "\n",
      "******************************************************************************\n",
      "This program contains Ipopt, a library for large-scale nonlinear optimization.\n",
      " Ipopt is released as open source code under the Eclipse Public License (EPL).\n",
      "         For more information visit https://github.com/coin-or/Ipopt\n",
      "******************************************************************************\n",
      "\n",
      "Incumbent using start values: 0.0\n",
      "Status of relaxation: LOCALLY_SOLVED\n",
      "Time for relaxation: 12.061002016067505\n",
      "Relaxation Obj: 77.75505908623647\n",
      "\n",
      " ONodes   CLevel          Incumbent                   BestBound            Gap    Time   Restarts  GainGap  \n",
      "============================================================================================================\n",
      "    2       2                0.0                        77.76             Inf%    2.7       0         -     \n",
      "    1       3                64.0                       74.64            16.62%   3.1       -       29.3%   \n",
      "    1       4                64.0                       71.99            12.48%   3.1       -       65.9%   \n",
      "    1       5                64.0                       71.38            11.53%   3.1       -       33.4%   \n",
      "    0       6                65.0                        69.9             7.54%   3.1       -       77.6%   \n",
      "\n",
      "#branches: 5\n",
      "Obj: 65.0\n"
     ]
    }
   ],
   "source": [
    "m = Model(optimizer_with_attributes(optimizer, \"nl_solver\"=>nl_solver))\n",
    "v = [10,20,12,23,42]\n",
    "w = [12,45,12,22,21]\n",
    "@variable(m, x[1:5], Bin)\n",
    "@objective(m, Max, dot(v,x))\n",
    "\n",
    "@NLconstraint(m, sum(w[i]*x[i]^2 for i=1:5) <= 45)   \n",
    "optimize!(m)"
   ]
  },
  {
   "cell_type": "code",
   "execution_count": 5,
   "id": "5d1847c6",
   "metadata": {},
   "outputs": [
    {
     "name": "stdout",
     "output_type": "stream",
     "text": [
      "[0.0, 0.0, 0.0, 1.0, 1.0]\n",
      "65.0\n",
      "LOCALLY_SOLVED\n"
     ]
    }
   ],
   "source": [
    "# retrieve the objective value, corresponding x values and the status\n",
    "println(JuMP.value.(x))\n",
    "println(JuMP.objective_value(m))\n",
    "println(JuMP.termination_status(m))"
   ]
  },
  {
   "cell_type": "code",
   "execution_count": null,
   "id": "53cf56e1",
   "metadata": {},
   "outputs": [],
   "source": []
  }
 ],
 "metadata": {
  "kernelspec": {
   "display_name": "Julia 1.11.5",
   "language": "julia",
   "name": "julia-1.11"
  },
  "language_info": {
   "file_extension": ".jl",
   "mimetype": "application/julia",
   "name": "julia",
   "version": "1.11.5"
  }
 },
 "nbformat": 4,
 "nbformat_minor": 5
}
