{
 "cells": [
  {
   "cell_type": "markdown",
   "id": "e53464b5",
   "metadata": {},
   "source": [
    "# Lei de Little \n",
    "\n",
    "Número médio de clientes a longo prazo é $L$\n",
    "\n",
    "$ L = \\lambda \\cdot W $\n",
    "\n",
    "onde $\\lambda$ é a taxa média efetiva de chegada a longo prazo e $W$ é o tempo médio que um cliente passa no sistema. "
   ]
  },
  {
   "cell_type": "code",
   "execution_count": 1,
   "id": "18fc60b4",
   "metadata": {},
   "outputs": [
    {
     "data": {
      "text/plain": [
       "cc_os_delay (generic function with 1 method)"
      ]
     },
     "execution_count": 1,
     "metadata": {},
     "output_type": "execute_result"
    }
   ],
   "source": [
    "include(\"utils.jl\")\n",
    "include(\"cc_os_delay.jl\")"
   ]
  },
  {
   "cell_type": "code",
   "execution_count": null,
   "id": "19319dbd",
   "metadata": {},
   "outputs": [],
   "source": [
    "# Objective function Cost\n",
    "c_z = 1.5      # weight of served clients\n",
    "c_ser = 2      # weight of server cost  \n",
    "c_L = 1\n",
    "\n",
    "# Objective function\n",
    "lin_fobj(S, dr, Cin, phi, Z, L) = c_ser*sum(S) - c_z*sum(Z) +c_L*sum(L)\n",
    "\n",
    "# Parameters\n",
    "N = 10            # numner of examples\n",
    "horiz = 50        # total horizon\n",
    "\n",
    "# bounds\n",
    "XM = 5            # max queue length \n",
    "YM = 10           # max buffer legnth before dropping calls\n",
    "phiM = 9          # max adimission to queue\n",
    "\n",
    "struct bounds\n",
    "    XM\n",
    "    YM\n",
    "    phiM\n",
    "    serM  # different for each model\n",
    "    tserM # only defined for the model with delay\n",
    "end\n",
    "\n",
    "# iniital conditions\n",
    "X0 = 4\n",
    "Y0 = 6\n",
    "L0 = 0\n",
    "Z0 = 1\n",
    "\n",
    "struct initial_conditions\n",
    "    X0\n",
    "    Y0\n",
    "    L0\n",
    "    Z0\n",
    "end\n",
    "ic = initial_conditions(X0, Y0, L0, Z0)\n",
    "\n",
    "createDemands = true\n",
    "if createDemands\n",
    "    d_mat = demand_generator_mat(1, horiz, 14, \"uniform\", 1)\n",
    "    a_mat = demand_generator_mat(1, horiz, 1,\"uniform\",0.5)  #voltar para 2 depois\n",
    "else\n",
    "    d_fn = \"..//CC_simple//d_mat_Thu_22_May_2025_19_39_50.txt\";\n",
    "    a_fn = \"..//CC_simple//a_mat_Thu_22_May_2025_19_39_50.txt\";\n",
    "    d_mat = DelimitedFiles.readdlm(d_fn);\n",
    "    a_mat = DelimitedFiles.readdlm(a_fn);\n",
    "    \n",
    "end\n",
    "\n",
    "d = d_mat[1:horiz, 1];  # demand for incoming calls\n",
    "a = a_mat[1:horiz, 1];  # abandonment for calls\n",
    "\n",
    "struct result\n",
    "    id\n",
    "    X\n",
    "    Y\n",
    "    Z\n",
    "    L\n",
    "    n\n",
    "    Q\n",
    "    dr\n",
    "    phi\n",
    "    Cin\n",
    "    Cout\n",
    "    S\n",
    "    Sl\n",
    "    Sa\n",
    "    Sst\n",
    "    Sc\n",
    "    Sin\n",
    "    Saux\n",
    "    b_opt\n",
    "    J\n",
    "    c_ser\n",
    "    c_blr\n",
    "end\n",
    "\n",
    "nl = true # true for non linear obj func and false for linear obj func\n",
    "\n",
    "# costs for the non linear obj func\n",
    "c_blro = 140\n",
    "c_sero = 1\n",
    "\n",
    "serMo = 5  # number of servers\n",
    "\n",
    "bdso = bounds(XM, YM, phiM, serMo, 0);\n",
    "\n",
    "\n",
    "tserM = 3         # max delay in service time\n",
    "tm = (((tserM+1)*(tserM+2)/2)-1)/tserM # average service time\n",
    "\n",
    "c_serd = c_sero/tm\n",
    "c_blrd = c_blro\n",
    "\n",
    "serMd = serMo*tm         # number of servers\n",
    "serMd = Int(serMd)\n",
    "bdsd = bounds(XM, YM, phiM, serMd, tserM)\n",
    "\n",
    "rnd_tser = true\n",
    "df_input = df_input_generator(horiz, serMd, tserM, rnd_tser);\n",
    "   "
   ]
  },
  {
   "cell_type": "code",
   "execution_count": 3,
   "id": "73416ed1",
   "metadata": {},
   "outputs": [],
   "source": [
    "optimal, X, Y, Z, L, n, Q, dr, phi, Cin, Cout, S, Sl, Sa, Sst, Sc, Sin, Saux, b_opt, J = cc_os_delay(ic, bdsd, a, d, df_input, lin_fobj);\n",
    "result_os_del = result(\"os_del\", X, Y, Z, L, n, Q, dr, phi, Cin, Cout, S, Sl, Sa, Sst, Sc, Sin, Saux, b_opt, J, c_serd, c_blrd);"
   ]
  },
  {
   "cell_type": "code",
   "execution_count": 5,
   "id": "4de47fcd",
   "metadata": {},
   "outputs": [
    {
     "name": "stdout",
     "output_type": "stream",
     "text": [
      "lambda: 4.82\n",
      "L: 27.24\n",
      "W: 5.651452282157676\n"
     ]
    }
   ],
   "source": [
    "lambda = (sum(d)-sum(dr))/horiz                     # average effective arrival rate\n",
    "L = (sum(X[1:horiz])+sum(Y[1:horiz])+sum(S))/horiz  # average number of clients in the system\n",
    "W = L/lambda                                        # average waiting time\n",
    "\n",
    "println(\"lambda: \", lambda)\n",
    "println(\"L: \", L)\n",
    "println(\"W: \", W)"
   ]
  },
  {
   "cell_type": "code",
   "execution_count": null,
   "id": "093ac268",
   "metadata": {},
   "outputs": [],
   "source": []
  },
  {
   "cell_type": "code",
   "execution_count": null,
   "id": "cf99c38c",
   "metadata": {},
   "outputs": [],
   "source": []
  }
 ],
 "metadata": {
  "kernelspec": {
   "display_name": "Julia 1.11.5",
   "language": "julia",
   "name": "julia-1.11"
  },
  "language_info": {
   "file_extension": ".jl",
   "mimetype": "application/julia",
   "name": "julia",
   "version": "1.11.5"
  }
 },
 "nbformat": 4,
 "nbformat_minor": 5
}
