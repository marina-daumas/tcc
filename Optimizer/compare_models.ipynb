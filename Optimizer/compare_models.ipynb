{
 "cells": [
  {
   "cell_type": "markdown",
   "id": "bbb7db24",
   "metadata": {},
   "source": [
    "# Comparison between original model and model with delay\n",
    "\n",
    "Acapacidade média de atendimento por passo em cada um dos modelos comparados deve ser a mesma. Para isso, o número máxmio de servidores no caso com atraso deve ser igual a $S_d$\n",
    "\n",
    "$$S_d = t_m \\cdot S_o$$\n",
    "\n",
    "onde $t_m$ é o tempo médio de serviço (1+atraso), $S_o$ é o número de servidores no modelo original sem atrasos.\n",
    "\n",
    "Para um atraso máximo no serviço de 3 passos ($t_{serM} = 3$), com atrasos distribuidos de maneira uniforme, o $t_m$ seria igual a 3. Para que a comparação seja válida, é necessário que $t_m$ seja um inteiro. Para que isso ocorra, $t_serM$ deve ser ímpar.\n",
    "\n",
    "$$t_m = \\frac{((t_{serM}+1)(t_{serM}+2)/2)-1}{t_{serM}} = \\frac{2+3+4}{3} = 3 $$"
   ]
  },
  {
   "cell_type": "code",
   "execution_count": 1,
   "id": "9c107659",
   "metadata": {},
   "outputs": [
    {
     "data": {
      "text/plain": [
       "plotData (generic function with 1 method)"
      ]
     },
     "execution_count": 1,
     "metadata": {},
     "output_type": "execute_result"
    }
   ],
   "source": [
    "using JuMP\n",
    "using HiGHS\n",
    "using Ipopt\n",
    "using Juniper\n",
    "\n",
    "include(\"utils.jl\") # demand_generator_mat, printTable, plotData"
   ]
  },
  {
   "cell_type": "markdown",
   "id": "b82ff15c",
   "metadata": {},
   "source": [
    "### Comon Parametrers"
   ]
  },
  {
   "cell_type": "code",
   "execution_count": 2,
   "id": "a4a7b3fd",
   "metadata": {},
   "outputs": [],
   "source": [
    "# Objective function Costs\n",
    "c_z = 1.5        # weight of served clients\n",
    "c_ser = 2      # weight of server cost  \n",
    "c_L = 1\n",
    "\n",
    "# Objective function\n",
    "lin_fobj(S, dr, Cin, phi, Z, L) = c_ser*sum(S) - c_z*sum(Z) +c_L*sum(L)\n",
    "\n",
    "# Parameters\n",
    "N = 10            # numner of examples\n",
    "horiz = 20        # total horizon\n",
    "\n",
    "# bounds\n",
    "XM = 5            # max queue length \n",
    "YM = 10           # max buffer legnth before dropping calls\n",
    "phiM = 9          # max adimission to queue\n",
    "\n",
    "struct bounds\n",
    "    XM\n",
    "    YM\n",
    "    phiM\n",
    "    serM  # different for each model\n",
    "    tserM # only defined for the model with delay\n",
    "end\n",
    "\n",
    "# iniital conditions\n",
    "X0 = 4\n",
    "Y0 = 6\n",
    "L0 = 0\n",
    "Z0 = 0\n",
    "\n",
    "struct initial_conditions\n",
    "    X0\n",
    "    Y0\n",
    "    L0\n",
    "    Z0\n",
    "end\n",
    "ic = initial_conditions(X0, Y0, L0, Z0)\n",
    "\n",
    "createDemands = true\n",
    "if createDemands\n",
    "    d_mat = demand_generator_mat(1, horiz, 14, \"uniform\", 1)\n",
    "    a_mat = demand_generator_mat(1, horiz, 2,\"uniform\",0.5)\n",
    "else\n",
    "    d_fn = \"..//CC_simple//d_mat_Thu_22_May_2025_19_39_50.txt\";\n",
    "    a_fn = \"..//CC_simple//a_mat_Thu_22_May_2025_19_39_50.txt\";\n",
    "    d_mat = DelimitedFiles.readdlm(d_fn);\n",
    "    a_mat = DelimitedFiles.readdlm(a_fn);\n",
    "    \n",
    "end\n",
    "\n",
    "d = d_mat[1:horiz, 1];  # demand for incoming calls\n",
    "a = a_mat[1:horiz, 1];  # abandonment for calls\n",
    "\n",
    "struct result\n",
    "    id\n",
    "    X\n",
    "    Y\n",
    "    Z\n",
    "    L\n",
    "    n\n",
    "    Q\n",
    "    dr\n",
    "    phi\n",
    "    Cin\n",
    "    Cout\n",
    "    S\n",
    "    Sl\n",
    "    Sa\n",
    "    Sst\n",
    "    Sc\n",
    "    Sin\n",
    "    Saux\n",
    "    b_opt\n",
    "    J\n",
    "    c_ser\n",
    "    c_blr\n",
    "end\n",
    "   "
   ]
  },
  {
   "cell_type": "markdown",
   "id": "d3813a43",
   "metadata": {},
   "source": [
    "### Parameters original model"
   ]
  },
  {
   "cell_type": "code",
   "execution_count": 3,
   "id": "e5314ede",
   "metadata": {},
   "outputs": [],
   "source": [
    "nl = false # true for non linear obj func and false for linear obj func\n",
    "\n",
    "# costs for the non linear obj func\n",
    "c_blro = 140\n",
    "c_sero = 1\n",
    "\n",
    "serMo = 5  # number of servers\n",
    "\n",
    "bdso = bounds(XM, YM, phiM, serMo, 0);"
   ]
  },
  {
   "cell_type": "markdown",
   "id": "98843c9e",
   "metadata": {},
   "source": [
    "### Original model results"
   ]
  },
  {
   "cell_type": "code",
   "execution_count": 4,
   "id": "ecbc5c10",
   "metadata": {},
   "outputs": [
    {
     "name": "stdout",
     "output_type": "stream",
     "text": [
      "ok\n",
      " \n",
      "Balking rate: 0.4411764705882353\n",
      "Total number of servers used: 82.0\n",
      "c_ser*S + c_blr*B = 143.76470588235293"
     ]
    }
   ],
   "source": [
    "include(\"cc_os_original.jl\")\n",
    "optimal, X, Y, Z, L, n, Q, dr, phi, S, b_opt, J = cc_os_original(ic, bdso, c_sero, c_blro, d, a, nl, lin_fobj);\n",
    "result_os_ori = result(\"os_ori\", X, Y, Z, L, n, Q, dr, phi, nothing, nothing, S, nothing, nothing, nothing, nothing, nothing, nothing, b_opt, J, c_sero, c_blro)\n",
    "\n",
    "print( \"\\n \\n\")\n",
    "println(\"Balking rate: \", sum(L)/sum(L+Z))\n",
    "println(\"Total number of servers used: \", sum(S))\n",
    "print(\"c_ser*S + c_blr*B = \", c_sero*sum(S) + c_blro*sum(L)/sum(L+Z))"
   ]
  },
  {
   "cell_type": "code",
   "execution_count": 5,
   "id": "6d372928",
   "metadata": {},
   "outputs": [
    {
     "name": "stdout",
     "output_type": "stream",
     "text": [
      "ok\n",
      " \n",
      "Balking rate: 0.3565270931998317\n",
      "Total number of servers used: 95.0\n",
      "c_ser*S + c_blr*B = 144.91379304797644"
     ]
    }
   ],
   "source": [
    "include(\"cc_om_original.jl\")\n",
    "optimal, X, Y, Z, L, n, Q, dr, phi, S, b_opt, J = cc_om_original(ic, bdso, c_sero, c_blro, d, a, nl, lin_fobj);\n",
    "result_om_ori = result(\"om_ori\", X, Y, Z, L, n, Q, dr, phi, nothing, nothing, S, nothing, nothing, nothing, nothing, nothing, nothing, b_opt, J, c_sero, c_blro)\n",
    "\n",
    "print( \"\\n \\n\")\n",
    "println(\"Balking rate: \", sum(L)/sum(L+Z))\n",
    "println(\"Total number of servers used: \", sum(S))\n",
    "print(\"c_ser*S + c_blr*B = \", c_sero*sum(S) + c_blro*sum(L)/sum(L+Z))"
   ]
  },
  {
   "cell_type": "markdown",
   "id": "a4c39839",
   "metadata": {},
   "source": [
    "### Parameters model with delay"
   ]
  },
  {
   "cell_type": "code",
   "execution_count": 6,
   "id": "8409b6d6",
   "metadata": {},
   "outputs": [],
   "source": [
    "tserM = 3         # max delay in service time\n",
    "tm = (((tserM+1)*(tserM+2)/2)-1)/tserM # average service time\n",
    "\n",
    "c_serd = c_sero/tm\n",
    "c_blrd = c_blro\n",
    "\n",
    "serMd = serMo*tm         # number of servers\n",
    "serMd = Int(serMd)\n",
    "bdsd = bounds(XM, YM, phiM, serMd, tserM)\n",
    "\n",
    "rnd_tser = true\n",
    "df_input = df_input_generator(horiz, serMd, tserM, rnd_tser);"
   ]
  },
  {
   "cell_type": "markdown",
   "id": "bb9c704b",
   "metadata": {},
   "source": [
    "### Delay model results"
   ]
  },
  {
   "cell_type": "code",
   "execution_count": 7,
   "id": "1a396872",
   "metadata": {},
   "outputs": [
    {
     "name": "stdout",
     "output_type": "stream",
     "text": [
      "\n",
      " \n",
      "Balking rate: 0.4311639549436796\n",
      "Total number of servers used: 83.66666666666667\n",
      "c_ser*S + c_blr*B = 144.0296203587818"
     ]
    }
   ],
   "source": [
    "include(\"cc_os_delay.jl\")\n",
    "optimal, X, Y, Z, L, n, Q, dr, phi, Cin, Cout, S, Sl, Sa, Sst, Sc, Sin, Saux, b_opt, J = cc_os_delay(ic, bdsd, a, d, df_input, lin_fobj);\n",
    "result_os_del = result(\"os_del\", X, Y, Z, L, n, Q, dr, phi, Cin, Cout, S, Sl, Sa, Sst, Sc, Sin, Saux, b_opt, J, c_serd, c_blrd)\n",
    "\n",
    "print( \"\\n \\n\")\n",
    "println(\"Balking rate: \", sum(L)/sum(L+Z))\n",
    "println(\"Total number of servers used: \", sum(S)/tm)\n",
    "print(\"c_ser*S + c_blr*B = \", c_serd*sum(S) + c_blrd*sum(L)/sum(L+Z))"
   ]
  },
  {
   "cell_type": "code",
   "execution_count": 8,
   "id": "4164eb55",
   "metadata": {},
   "outputs": [
    {
     "name": "stdout",
     "output_type": "stream",
     "text": [
      "ok\n",
      " \n",
      "Balking rate: 0.3139178418148375\n",
      "Total number of servers used: 88.0\n",
      "c_ser*S + c_blr*B = 131.94849785407726"
     ]
    }
   ],
   "source": [
    "include(\"cc_om_delay.jl\")\n",
    "optimal, X, Y, Z, L, n, Q, dr, phi, Cin, Cout, S, Sl, Sa, Sst, Sc, Sin, Saux, b_opt, J = cc_om_delay(ic, bdsd, a, d, df_input, lin_fobj);\n",
    "result_om_del = result(\"om_del\", X, Y, Z, L, n, Q, dr, phi, Cin, Cout, S, Sl, Sa, Sst, Sc, Sin, Saux, b_opt, J, c_serd, c_blrd)\n",
    "\n",
    "print( \"\\n \\n\")\n",
    "println(\"Balking rate: \", sum(L)/sum(L+Z))\n",
    "println(\"Total number of servers used: \", sum(S)/tm)\n",
    "print(\"c_ser*S + c_blr*B = \", c_serd*sum(S) + c_blrd*sum(L)/sum(L+Z))"
   ]
  },
  {
   "cell_type": "markdown",
   "id": "e33aec7c",
   "metadata": {},
   "source": [
    "## Results comparison"
   ]
  },
  {
   "cell_type": "code",
   "execution_count": 9,
   "id": "c5e3766f",
   "metadata": {},
   "outputs": [
    {
     "name": "stdout",
     "output_type": "stream",
     "text": [
      "os_ori\n",
      "Results\n",
      "┌───────┬───────────────┬─────────┐\n",
      "│\u001b[1m    br \u001b[0m│\u001b[1m total clients \u001b[0m│\u001b[1m    cost \u001b[0m│\n",
      "├───────┼───────────────┼─────────┤\n",
      "│ 0.441 │        82.000 │ 143.765 │\n",
      "└───────┴───────────────┴─────────┘\n",
      "om_ori\n",
      "Results\n",
      "┌───────┬───────────────┬─────────┐\n",
      "│\u001b[1m    br \u001b[0m│\u001b[1m total clients \u001b[0m│\u001b[1m    cost \u001b[0m│\n",
      "├───────┼───────────────┼─────────┤\n",
      "│ 0.357 │        95.000 │ 144.914 │\n",
      "└───────┴───────────────┴─────────┘\n",
      "os_del\n",
      "Results\n",
      "┌───────┬───────────────┬─────────┐\n",
      "│\u001b[1m    br \u001b[0m│\u001b[1m total clients \u001b[0m│\u001b[1m    cost \u001b[0m│\n",
      "├───────┼───────────────┼─────────┤\n",
      "│ 0.431 │        84.000 │ 144.030 │\n",
      "└───────┴───────────────┴─────────┘\n",
      "om_del\n",
      "Results\n",
      "┌───────┬───────────────┬─────────┐\n",
      "│\u001b[1m    br \u001b[0m│\u001b[1m total clients \u001b[0m│\u001b[1m    cost \u001b[0m│\n",
      "├───────┼───────────────┼─────────┤\n",
      "│ 0.314 │        98.000 │ 131.948 │\n",
      "└───────┴───────────────┴─────────┘\n"
     ]
    }
   ],
   "source": [
    "results_list = [result_os_ori, result_om_ori, result_os_del, result_om_del]\n",
    "\n",
    "for res in results_list\n",
    "    br = sum(res.L)/sum(res.L+res.Z)\n",
    "    total_clients = res.Z[horiz+1]\n",
    "    cost = res.c_ser*sum(res.S) + res.c_blr*sum(res.L)/sum(res.L+res.Z)\n",
    "\n",
    "    println(res.id)\n",
    "    data = hcat(br, total_clients, cost)\n",
    "    header = ([\"br\", \"total clients\", \"cost\"]);\n",
    "    printTable(data, header)\n",
    "end\n",
    "\n"
   ]
  },
  {
   "cell_type": "markdown",
   "id": "424d2a2a",
   "metadata": {},
   "source": []
  }
 ],
 "metadata": {
  "kernelspec": {
   "display_name": "Julia 1.11.5",
   "language": "julia",
   "name": "julia-1.11"
  },
  "language_info": {
   "file_extension": ".jl",
   "mimetype": "application/julia",
   "name": "julia",
   "version": "1.11.5"
  }
 },
 "nbformat": 4,
 "nbformat_minor": 5
}
