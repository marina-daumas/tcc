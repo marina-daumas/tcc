{
 "cells": [
  {
   "cell_type": "markdown",
   "id": "91f84dda",
   "metadata": {},
   "source": [
    "# Simulation fo the behaviour of the call center model with service delay"
   ]
  },
  {
   "cell_type": "code",
   "execution_count": null,
   "id": "64890074",
   "metadata": {},
   "outputs": [],
   "source": [
    "using Random\n",
    "using DelimitedFiles\n",
    "using PrettyTables\n",
    "\n",
    "# Parameters\n",
    "horiz = 20                    # total thorizon\n",
    "n_ser = 2                    # number of servers\n",
    "XM = 10                       # max queue length before dropping calls\n",
    "\n",
    "d_fn = \"..//CC_simple//d_mat_Thu_22_May_2025_19_39_50.txt\";\n",
    "a_fn = \"..//CC_simple//a_mat_Thu_22_May_2025_19_39_50.txt\";\n",
    "\n",
    "d_mat = DelimitedFiles.readdlm(d_fn);\n",
    "a_mat = DelimitedFiles.readdlm(a_fn);\n",
    "\n",
    "d = d_mat[1:horiz, 1]  # demand matrix for incoming calls\n",
    "a = a_mat[1:horiz, 1]  # abandonment matrix for calls\n",
    "\n",
    "t = 1:horiz"
   ]
  },
  {
   "cell_type": "markdown",
   "id": "a30a8b55",
   "metadata": {},
   "source": [
    "## Short version original problem"
   ]
  },
  {
   "cell_type": "code",
   "execution_count": null,
   "id": "0ff14f3e",
   "metadata": {},
   "outputs": [],
   "source": [
    "# State variables\n",
    "X = zeros(Int, horiz+1)     # current number of customers in queue x(k)\n",
    "s = zeros(Int, horiz+1)     # number of served customers per timestep\n",
    "dr = zeros(Int, horiz)      # dropped due to full buffer\n",
    "z = zeros(Int, horiz+1)     # custumers server \n",
    "\n",
    "X[1] = 3  # initial state, no customers in queue\n",
    "s[1] = n_ser\n",
    "z[1] = 0\n",
    "\n",
    "\n",
    "for k in 1:horiz\n",
    "    X[k+1] = X[k] + d[k] - s[k] - a[k]\n",
    "\n",
    "    # If queue exceeds max length, drop excess\n",
    "    if X[k+1] > XM\n",
    "        dr[k] = X[k+1] - XM  # dropped calls due to full queue\n",
    "        X[k+1] = XM\n",
    "    else\n",
    "        dr[k] = 0\n",
    "    end\n",
    "    \n",
    "    z[k+1] = z[k] + s[k]\n",
    "    # Serve up to number of servers\n",
    "    s[k+1] = min(X[k], n_ser)\n",
    "end"
   ]
  },
  {
   "cell_type": "code",
   "execution_count": 46,
   "id": "4ebfb36c",
   "metadata": {},
   "outputs": [
    {
     "name": "stdout",
     "output_type": "stream",
     "text": [
      "Results\n",
      "┌────────┬────────┬───────┬────────┬────────┬───────┐\n",
      "│\u001b[1m      t \u001b[0m│\u001b[1m      X \u001b[0m│\u001b[1m     s \u001b[0m│\u001b[1m     dr \u001b[0m│\u001b[1m  d_mat \u001b[0m│\u001b[1m a_mat \u001b[0m│\n",
      "├────────┼────────┼───────┼────────┼────────┼───────┤\n",
      "│  1.000 │  3.000 │ 2.000 │  0.000 │  7.000 │ 0.000 │\n",
      "│  2.000 │  8.000 │ 2.000 │  0.000 │  3.000 │ 1.000 │\n",
      "│  3.000 │  8.000 │ 2.000 │  0.000 │  3.000 │ 2.000 │\n",
      "│  4.000 │  7.000 │ 2.000 │  1.000 │  7.000 │ 1.000 │\n",
      "│  5.000 │ 11.000 │ 2.000 │ 10.000 │ 12.000 │ 1.000 │\n",
      "│  6.000 │ 20.000 │ 2.000 │ 15.000 │  9.000 │ 2.000 │\n",
      "│  7.000 │ 25.000 │ 2.000 │ 18.000 │  6.000 │ 1.000 │\n",
      "│  8.000 │ 28.000 │ 2.000 │ 18.000 │  3.000 │ 1.000 │\n",
      "│  9.000 │ 28.000 │ 2.000 │ 15.000 │  0.000 │ 1.000 │\n",
      "│ 10.000 │ 25.000 │ 2.000 │ 21.000 │  9.000 │ 1.000 │\n",
      "│ 11.000 │ 31.000 │ 2.000 │ 29.000 │ 11.000 │ 1.000 │\n",
      "│ 12.000 │ 39.000 │ 2.000 │ 38.000 │ 12.000 │ 1.000 │\n",
      "│ 13.000 │ 48.000 │ 2.000 │ 46.000 │ 12.000 │ 2.000 │\n",
      "│ 14.000 │ 56.000 │ 2.000 │ 54.000 │ 12.000 │ 2.000 │\n",
      "│ 15.000 │ 64.000 │ 2.000 │ 54.000 │  2.000 │ 0.000 │\n",
      "│ 16.000 │ 64.000 │ 2.000 │ 51.000 │  0.000 │ 1.000 │\n",
      "│ 17.000 │ 61.000 │ 2.000 │ 54.000 │  6.000 │ 1.000 │\n",
      "│ 18.000 │ 64.000 │ 2.000 │ 64.000 │ 13.000 │ 1.000 │\n",
      "│ 19.000 │ 74.000 │ 2.000 │ 66.000 │  6.000 │ 2.000 │\n",
      "│ 20.000 │ 76.000 │ 2.000 │ 76.000 │ 13.000 │ 1.000 │\n",
      "└────────┴────────┴───────┴────────┴────────┴───────┘\n"
     ]
    }
   ],
   "source": [
    "data = hcat(t, X[1:horiz,1], s[1:horiz,1], dr, d_mat[:,1], a_mat[:,1])\n",
    "header = ([\"t\", \"X\", \"s\", \"dr\", \"d_mat\", \"a_mat\"]);\n",
    "\n",
    "println(\"Results\")\n",
    "pretty_table(data; header=header,formatters=ft_printf(\"%5.3f\",1:11))\n"
   ]
  },
  {
   "cell_type": "markdown",
   "id": "4b837210",
   "metadata": {},
   "source": [
    "## Short version with delay"
   ]
  },
  {
   "cell_type": "code",
   "execution_count": 50,
   "id": "aa5f85ca",
   "metadata": {},
   "outputs": [],
   "source": [
    "# State variables\n",
    "X_dl = zeros(Int, horiz+1)     # current number of customers in queue x(k)\n",
    "s_dl = zeros(Int, horiz+1)     # number of served customers per timestep\n",
    "dr_dl = zeros(Int, horiz)      # dropped due to full buffer\n",
    "z_dl = zeros(Int, horiz+1)     # custumers server \n",
    "\n",
    "X_dl[1] = 3  # initial state, no customers in queue\n",
    "s_dl[1] = 0\n",
    "z_dl[1] = 0\n",
    "\n",
    "# Servers\n",
    "t_ser = 4 # time to serve one customer \n",
    "st_ser = zeros(Int, n_ser) # state of servers\n",
    "S = zeros(n_ser, t_ser) # servers conveyor\n",
    "\n",
    "# another option would be to S as\n",
    "# S = zeros(Int, n_ser) # state of servers, where 0 means free and >0 means busy with remaining time\n",
    "\n",
    "for k in 1:horiz\n",
    "\n",
    "    for i in 1:n_ser\n",
    "        st_ser[i] = S[i, 1] # get the state of server i\n",
    "        S[i, 2:t_ser] = S[i, 1:t_ser-1] # shift the state of server i\n",
    "\n",
    "        # If server is free, start serving a customer\n",
    "        if st_ser[i] == 0 && X_dl[k] > 0\n",
    "            s_dl[k] += 1\n",
    "            S[i, 1] = 1\n",
    "        else \n",
    "            S[i, 1] = 0\n",
    "        end\n",
    "    end\n",
    "\n",
    "    X_dl[k+1] = X_dl[k] + d[k] - s_dl[k] -a[k]\n",
    "\n",
    "    # If queue exceeds max length, drop excess\n",
    "    if X_dl[k+1] > XM\n",
    "        dr_dl[k] = X_dl[k+1] - XM  # dropped calls due to full queue\n",
    "        X_dl[k+1] = XM\n",
    "    else\n",
    "        dr_dl[k] = 0\n",
    "    end\n",
    "\n",
    "    # Served custumers counted only after the service time\n",
    "    if k <= t_ser\n",
    "        z_dl[k+1] = 0\n",
    "    else\n",
    "        z_dl[k+1] = z_dl[k] + s_dl[k-t_ser]\n",
    "    end\n",
    "\n",
    "end"
   ]
  },
  {
   "cell_type": "code",
   "execution_count": 51,
   "id": "f445a95d",
   "metadata": {},
   "outputs": [
    {
     "name": "stdout",
     "output_type": "stream",
     "text": [
      "Results\n",
      "┌────────┬────────┬───────┬────────┬────────┬────────┬───────┐\n",
      "│\u001b[1m      t \u001b[0m│\u001b[1m   X_dl \u001b[0m│\u001b[1m  s_dl \u001b[0m│\u001b[1m     dr \u001b[0m│\u001b[1m   z_dl \u001b[0m│\u001b[1m  d_mat \u001b[0m│\u001b[1m a_mat \u001b[0m│\n",
      "├────────┼────────┼───────┼────────┼────────┼────────┼───────┤\n",
      "│  1.000 │  3.000 │ 2.000 │  0.000 │  0.000 │  7.000 │ 0.000 │\n",
      "│  2.000 │  8.000 │ 0.000 │  0.000 │  0.000 │  3.000 │ 1.000 │\n",
      "│  3.000 │ 10.000 │ 2.000 │  0.000 │  0.000 │  3.000 │ 2.000 │\n",
      "│  4.000 │  9.000 │ 0.000 │  1.000 │  0.000 │  7.000 │ 1.000 │\n",
      "│  5.000 │ 10.000 │ 2.000 │  9.000 │  0.000 │ 12.000 │ 1.000 │\n",
      "│  6.000 │ 10.000 │ 0.000 │  5.000 │  2.000 │  9.000 │ 2.000 │\n",
      "│  7.000 │ 10.000 │ 2.000 │  3.000 │  2.000 │  6.000 │ 1.000 │\n",
      "│  8.000 │ 10.000 │ 0.000 │  0.000 │  4.000 │  3.000 │ 1.000 │\n",
      "│  9.000 │ 10.000 │ 2.000 │  0.000 │  4.000 │  0.000 │ 1.000 │\n",
      "│ 10.000 │  7.000 │ 0.000 │  3.000 │  6.000 │  9.000 │ 1.000 │\n",
      "│ 11.000 │ 10.000 │ 2.000 │  8.000 │  6.000 │ 11.000 │ 1.000 │\n",
      "│ 12.000 │ 10.000 │ 0.000 │  9.000 │  8.000 │ 12.000 │ 1.000 │\n",
      "│ 13.000 │ 10.000 │ 2.000 │  8.000 │  8.000 │ 12.000 │ 2.000 │\n",
      "│ 14.000 │ 10.000 │ 0.000 │  8.000 │ 10.000 │ 12.000 │ 2.000 │\n",
      "│ 15.000 │ 10.000 │ 2.000 │  0.000 │ 10.000 │  2.000 │ 0.000 │\n",
      "│ 16.000 │ 10.000 │ 0.000 │  0.000 │ 12.000 │  0.000 │ 1.000 │\n",
      "│ 17.000 │  9.000 │ 2.000 │  0.000 │ 12.000 │  6.000 │ 1.000 │\n",
      "│ 18.000 │ 10.000 │ 0.000 │ 10.000 │ 14.000 │ 13.000 │ 1.000 │\n",
      "│ 19.000 │ 10.000 │ 2.000 │  2.000 │ 14.000 │  6.000 │ 2.000 │\n",
      "│ 20.000 │ 10.000 │ 0.000 │ 10.000 │ 16.000 │ 13.000 │ 1.000 │\n",
      "└────────┴────────┴───────┴────────┴────────┴────────┴───────┘\n"
     ]
    }
   ],
   "source": [
    "data = hcat(t, X_dl[1:horiz,1], s_dl[1:horiz,1], dr, z_dl[1:horiz,1], d_mat[:,1], a_mat[:,1])\n",
    "header = ([\"t\", \"X_dl\", \"s_dl\", \"dr\", \"z_dl\", \"d_mat\", \"a_mat\"]);\n",
    "\n",
    "println(\"Results\")\n",
    "pretty_table(data; header=header,formatters=ft_printf(\"%5.3f\",1:11))"
   ]
  },
  {
   "cell_type": "markdown",
   "id": "c3e460b3",
   "metadata": {},
   "source": [
    "## Short version with delay and server ocupied "
   ]
  },
  {
   "cell_type": "code",
   "execution_count": 85,
   "id": "0f79e2ea",
   "metadata": {},
   "outputs": [],
   "source": [
    "# State variables\n",
    "X_dl = zeros(Int, horiz+1)     # current number of customers in queue x(k)\n",
    "s_dl = zeros(Int, horiz)     # number of customers enering server per timestep\n",
    "s_end = zeros(Int, horiz)    # number of served customers per the time step\n",
    "dr_dl = zeros(Int, horiz)      # dropped due to full buffer\n",
    "z_dl = zeros(Int, horiz+1)     # custumers server \n",
    "\n",
    "X_dl[1] = 3  # initial state, no customers in queue\n",
    "s_dl[1] = 0\n",
    "z_dl[1] = 0\n",
    "\n",
    "# Servers\n",
    "t_ser = [2, 3] # delay to serve one customer \n",
    "st_ser = zeros(n_ser, horiz+1) # state of servers, where 0 means free and >0 means busy with remaining time\n",
    "\n",
    "\n",
    "for k in 1:horiz\n",
    "\n",
    "    for i in 1:n_ser\n",
    "\n",
    "        # If server is free, start serving a customer\n",
    "        if st_ser[i, k] == 0 && X_dl[k] > 0\n",
    "            s_dl[k] += 1\n",
    "            st_ser[i, k+1] = t_ser[i]\n",
    "\n",
    "            if k > 1 \n",
    "                s_end[k] += 1\n",
    "            end\n",
    "        else \n",
    "            st_ser[i, k+1] = st_ser[i, k] - 1  # decrement the remaining service time\n",
    "        end\n",
    "    end\n",
    "\n",
    "    X_dl[k+1] = X_dl[k] + d[k] - s_dl[k] -a[k]\n",
    "\n",
    "    # If queue exceeds max length, drop excess\n",
    "    if X_dl[k+1] > XM\n",
    "        dr_dl[k] = X_dl[k+1] - XM  # dropped calls due to full queue\n",
    "        X_dl[k+1] = XM\n",
    "    else\n",
    "        dr_dl[k] = 0\n",
    "    end\n",
    "        \n",
    "    z_dl[k+1] = z_dl[k] + s_end[k]\n",
    "\n",
    "end"
   ]
  },
  {
   "cell_type": "code",
   "execution_count": 86,
   "id": "5ebbe272",
   "metadata": {},
   "outputs": [
    {
     "name": "stdout",
     "output_type": "stream",
     "text": [
      "2\n"
     ]
    }
   ],
   "source": [
    "g = [2, 5]\n",
    "f = zeros(Int, 2)\n",
    "println(g[1])"
   ]
  },
  {
   "cell_type": "code",
   "execution_count": 87,
   "id": "b228900b",
   "metadata": {},
   "outputs": [
    {
     "name": "stdout",
     "output_type": "stream",
     "text": [
      "Results\n",
      "┌────────┬────────┬───────┬───────┬─────────┬─────────┬────────┬────────┬────────┬───────┐\n",
      "│\u001b[1m      t \u001b[0m│\u001b[1m   X_dl \u001b[0m│\u001b[1m  s_dl \u001b[0m│\u001b[1m s_end \u001b[0m│\u001b[1m st_ser1 \u001b[0m│\u001b[1m st_ser2 \u001b[0m│\u001b[1m     dr \u001b[0m│\u001b[1m   z_dl \u001b[0m│\u001b[1m  d_mat \u001b[0m│\u001b[1m a_mat \u001b[0m│\n",
      "├────────┼────────┼───────┼───────┼─────────┼─────────┼────────┼────────┼────────┼───────┤\n",
      "│  1.000 │  3.000 │ 2.000 │ 0.000 │   0.000 │   0.000 │  0.000 │  0.000 │  7.000 │ 0.000 │\n",
      "│  2.000 │  8.000 │ 0.000 │ 0.000 │   2.000 │   3.000 │  0.000 │  0.000 │  3.000 │ 1.000 │\n",
      "│  3.000 │ 10.000 │ 0.000 │ 0.000 │   1.000 │   2.000 │  0.000 │  0.000 │  3.000 │ 2.000 │\n",
      "│  4.000 │ 10.000 │ 1.000 │ 1.000 │   0.000 │   1.000 │  1.000 │  0.000 │  7.000 │ 1.000 │\n",
      "│  5.000 │ 10.000 │ 1.000 │ 1.000 │   2.000 │   0.000 │  9.000 │  1.000 │ 12.000 │ 1.000 │\n",
      "│  6.000 │ 10.000 │ 0.000 │ 0.000 │   1.000 │   3.000 │  5.000 │  2.000 │  9.000 │ 2.000 │\n",
      "│  7.000 │ 10.000 │ 1.000 │ 1.000 │   0.000 │   2.000 │  3.000 │  2.000 │  6.000 │ 1.000 │\n",
      "│  8.000 │ 10.000 │ 0.000 │ 0.000 │   2.000 │   1.000 │  0.000 │  3.000 │  3.000 │ 1.000 │\n",
      "│  9.000 │ 10.000 │ 1.000 │ 1.000 │   1.000 │   0.000 │  0.000 │  3.000 │  0.000 │ 1.000 │\n",
      "│ 10.000 │  8.000 │ 1.000 │ 1.000 │   0.000 │   3.000 │  3.000 │  4.000 │  9.000 │ 1.000 │\n",
      "│ 11.000 │ 10.000 │ 0.000 │ 0.000 │   2.000 │   2.000 │  8.000 │  5.000 │ 11.000 │ 1.000 │\n",
      "│ 12.000 │ 10.000 │ 0.000 │ 0.000 │   1.000 │   1.000 │  9.000 │  5.000 │ 12.000 │ 1.000 │\n",
      "│ 13.000 │ 10.000 │ 2.000 │ 2.000 │   0.000 │   0.000 │  8.000 │  5.000 │ 12.000 │ 2.000 │\n",
      "│ 14.000 │ 10.000 │ 0.000 │ 0.000 │   2.000 │   3.000 │  8.000 │  7.000 │ 12.000 │ 2.000 │\n",
      "│ 15.000 │ 10.000 │ 0.000 │ 0.000 │   1.000 │   2.000 │  0.000 │  7.000 │  2.000 │ 0.000 │\n",
      "│ 16.000 │ 10.000 │ 1.000 │ 1.000 │   0.000 │   1.000 │  0.000 │  7.000 │  0.000 │ 1.000 │\n",
      "│ 17.000 │  8.000 │ 1.000 │ 1.000 │   2.000 │   0.000 │  0.000 │  8.000 │  6.000 │ 1.000 │\n",
      "│ 18.000 │ 10.000 │ 0.000 │ 0.000 │   1.000 │   3.000 │ 10.000 │  9.000 │ 13.000 │ 1.000 │\n",
      "│ 19.000 │ 10.000 │ 1.000 │ 1.000 │   0.000 │   2.000 │  2.000 │  9.000 │  6.000 │ 2.000 │\n",
      "│ 20.000 │ 10.000 │ 0.000 │ 0.000 │   2.000 │   1.000 │ 10.000 │ 10.000 │ 13.000 │ 1.000 │\n",
      "└────────┴────────┴───────┴───────┴─────────┴─────────┴────────┴────────┴────────┴───────┘\n"
     ]
    }
   ],
   "source": [
    "data = hcat(t, X_dl[1:horiz,1], s_dl[1:horiz,1], s_end, st_ser[1, 1:horiz], st_ser[2, 1:horiz],  dr, z_dl[1:horiz,1], d_mat[:,1], a_mat[:,1])\n",
    "header = ([\"t\", \"X_dl\", \"s_dl\", \"s_end\", \"st_ser1\", \"st_ser2\", \"dr\", \"z_dl\", \"d_mat\", \"a_mat\"]);\n",
    "\n",
    "println(\"Results\")\n",
    "pretty_table(data; header=header,formatters=ft_printf(\"%5.3f\",1:11))"
   ]
  },
  {
   "cell_type": "code",
   "execution_count": null,
   "id": "67c4d186",
   "metadata": {},
   "outputs": [],
   "source": []
  }
 ],
 "metadata": {
  "kernelspec": {
   "display_name": "Julia 1.11.5",
   "language": "julia",
   "name": "julia-1.11"
  },
  "language_info": {
   "file_extension": ".jl",
   "mimetype": "application/julia",
   "name": "julia",
   "version": "1.11.5"
  }
 },
 "nbformat": 4,
 "nbformat_minor": 5
}
