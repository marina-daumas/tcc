{
 "cells": [
  {
   "cell_type": "markdown",
   "id": "91f84dda",
   "metadata": {},
   "source": [
    "# Simulation fo the behaviour of the call center model with service delay"
   ]
  },
  {
   "cell_type": "markdown",
   "id": "d22ccbd2",
   "metadata": {},
   "source": [
    "Short version simplified as:\n",
    "\n",
    "$$X[k+1] = X[k] + d[k] - s[k] - a[k]$$"
   ]
  },
  {
   "cell_type": "code",
   "execution_count": null,
   "id": "64890074",
   "metadata": {},
   "outputs": [
    {
     "data": {
      "text/plain": [
       "1:20"
      ]
     },
     "execution_count": 1,
     "metadata": {},
     "output_type": "execute_result"
    }
   ],
   "source": [
    "using Random\n",
    "using DelimitedFiles\n",
    "using PrettyTables\n",
    "\n",
    "# Parameters\n",
    "horiz = 20                   # total horizon\n",
    "n_ser = 2                    # number of servers\n",
    "XM = 10                      # max queue length before dropping calls\n",
    "t = 1:horiz\n",
    "\n",
    "d_fn = \"..//CC_simple//d_mat_Thu_22_May_2025_19_39_50.txt\";\n",
    "a_fn = \"..//CC_simple//a_mat_Thu_22_May_2025_19_39_50.txt\";\n",
    "\n",
    "d_mat = DelimitedFiles.readdlm(d_fn);\n",
    "a_mat = DelimitedFiles.readdlm(a_fn);\n",
    "\n",
    "d = d_mat[1:horiz, 1]  # demand matrix for incoming calls\n",
    "a = a_mat[1:horiz, 1]  # abandonment matrix for calls"
   ]
  },
  {
   "cell_type": "code",
   "execution_count": 2,
   "id": "5015c1b4",
   "metadata": {},
   "outputs": [
    {
     "data": {
      "text/plain": [
       "printTable (generic function with 1 method)"
      ]
     },
     "execution_count": 2,
     "metadata": {},
     "output_type": "execute_result"
    }
   ],
   "source": [
    "function printTable(data, header)\n",
    "    println(\"Results\")\n",
    "    pretty_table(data; header=header,formatters=ft_printf(\"%5.3f\",1:11))\n",
    "end"
   ]
  },
  {
   "cell_type": "markdown",
   "id": "a30a8b55",
   "metadata": {},
   "source": [
    "## Short version original problem"
   ]
  },
  {
   "cell_type": "code",
   "execution_count": 5,
   "id": "0ff14f3e",
   "metadata": {},
   "outputs": [],
   "source": [
    "# State variables\n",
    "X = zeros(Int, horiz+1)     # current number of customers in queue x(k)\n",
    "s = zeros(Int, horiz+1)     # number of served customers per timestep\n",
    "dr = zeros(Int, horiz)      # dropped due to full buffer\n",
    "z = zeros(Int, horiz+1)     # custumers served\n",
    "\n",
    "X[1] = 3  # initial state\n",
    "s[1] = n_ser\n",
    "z[1] = 0\n",
    "\n",
    "\n",
    "for k in 1:horiz\n",
    "    X[k+1] = X[k] + d[k] - s[k] - a[k]\n",
    "\n",
    "    # If queue exceeds max length, drop excess\n",
    "    if X[k+1] > XM\n",
    "        dr[k] = X[k+1] - XM  # dropped calls due to full queue\n",
    "        X[k+1] = XM\n",
    "    else\n",
    "        dr[k] = 0\n",
    "    end\n",
    "    \n",
    "    z[k+1] = z[k] + s[k]\n",
    "    # Serve up to number of servers\n",
    "    s[k+1] = min(X[k], n_ser)\n",
    "end"
   ]
  },
  {
   "cell_type": "code",
   "execution_count": 6,
   "id": "4ebfb36c",
   "metadata": {},
   "outputs": [
    {
     "name": "stdout",
     "output_type": "stream",
     "text": [
      "Results\n",
      "┌────────┬────────┬───────┬────────┬────────┬───────┐\n",
      "│\u001b[1m      t \u001b[0m│\u001b[1m      X \u001b[0m│\u001b[1m     s \u001b[0m│\u001b[1m     dr \u001b[0m│\u001b[1m  d_mat \u001b[0m│\u001b[1m a_mat \u001b[0m│\n",
      "├────────┼────────┼───────┼────────┼────────┼───────┤\n",
      "│  1.000 │  3.000 │ 2.000 │  0.000 │  7.000 │ 0.000 │\n",
      "│  2.000 │  8.000 │ 2.000 │  0.000 │  3.000 │ 1.000 │\n",
      "│  3.000 │  8.000 │ 2.000 │  0.000 │  3.000 │ 2.000 │\n",
      "│  4.000 │  7.000 │ 2.000 │  1.000 │  7.000 │ 1.000 │\n",
      "│  5.000 │ 10.000 │ 2.000 │  9.000 │ 12.000 │ 1.000 │\n",
      "│  6.000 │ 10.000 │ 2.000 │  5.000 │  9.000 │ 2.000 │\n",
      "│  7.000 │ 10.000 │ 2.000 │  3.000 │  6.000 │ 1.000 │\n",
      "│  8.000 │ 10.000 │ 2.000 │  0.000 │  3.000 │ 1.000 │\n",
      "│  9.000 │ 10.000 │ 2.000 │  0.000 │  0.000 │ 1.000 │\n",
      "│ 10.000 │  7.000 │ 2.000 │  3.000 │  9.000 │ 1.000 │\n",
      "│ 11.000 │ 10.000 │ 2.000 │  8.000 │ 11.000 │ 1.000 │\n",
      "│ 12.000 │ 10.000 │ 2.000 │  9.000 │ 12.000 │ 1.000 │\n",
      "│ 13.000 │ 10.000 │ 2.000 │  8.000 │ 12.000 │ 2.000 │\n",
      "│ 14.000 │ 10.000 │ 2.000 │  8.000 │ 12.000 │ 2.000 │\n",
      "│ 15.000 │ 10.000 │ 2.000 │  0.000 │  2.000 │ 0.000 │\n",
      "│ 16.000 │ 10.000 │ 2.000 │  0.000 │  0.000 │ 1.000 │\n",
      "│ 17.000 │  7.000 │ 2.000 │  0.000 │  6.000 │ 1.000 │\n",
      "│ 18.000 │ 10.000 │ 2.000 │ 10.000 │ 13.000 │ 1.000 │\n",
      "│ 19.000 │ 10.000 │ 2.000 │  2.000 │  6.000 │ 2.000 │\n",
      "│ 20.000 │ 10.000 │ 2.000 │ 10.000 │ 13.000 │ 1.000 │\n",
      "└────────┴────────┴───────┴────────┴────────┴───────┘\n"
     ]
    }
   ],
   "source": [
    "data = hcat(t, X[1:horiz,1], s[1:horiz,1], dr, d_mat[:,1], a_mat[:,1])\n",
    "header = ([\"t\", \"X\", \"s\", \"dr\", \"d_mat\", \"a_mat\"])\n",
    "printTable(data, header)"
   ]
  },
  {
   "cell_type": "markdown",
   "id": "4b837210",
   "metadata": {},
   "source": [
    "## Short version with delay\n",
    "\n",
    "Version based on the model proposed in 28/05."
   ]
  },
  {
   "cell_type": "code",
   "execution_count": 13,
   "id": "aa5f85ca",
   "metadata": {},
   "outputs": [],
   "source": [
    "# State variables\n",
    "X_dl = zeros(Int, horiz+1)     # current number of customers in queue x(k)\n",
    "s_dl = zeros(Int, horiz+1)     # number of served customers per timestep\n",
    "dr_dl = zeros(Int, horiz)      # dropped due to full buffer\n",
    "z_dl = zeros(Int, horiz+1)     # custumers served\n",
    "\n",
    "X_dl[1] = 3  # initial state\n",
    "s_dl[1] = 0\n",
    "z_dl[1] = 0\n",
    "\n",
    "# Servers\n",
    "t_ser = 4 # time to serve one customer \n",
    "st_ser = zeros(Int, n_ser) # state of servers\n",
    "conv_ser = zeros(n_ser, t_ser) # servers conveyor\n",
    "\n",
    "for k in 1:horiz\n",
    "\n",
    "    for i in 1:n_ser\n",
    "        conv_ser[i, 2:t_ser] = conv_ser[i, 1:t_ser-1] # shift the state of server i\n",
    "        st_ser[i] = conv_ser[i, 1] # get the state of server i\n",
    "\n",
    "        # If server is free, start serving a customer\n",
    "        if st_ser[i] == 0 && X_dl[k] > 0\n",
    "            s_dl[k] += 1\n",
    "            conv_ser[i, 1] = 1\n",
    "        else \n",
    "            conv_ser[i, 1] = 0\n",
    "        end\n",
    "    end\n",
    "\n",
    "    X_dl[k+1] = X_dl[k] + d[k] - s_dl[k] -a[k]\n",
    "\n",
    "    # If queue exceeds max length, drop excess\n",
    "    if X_dl[k+1] > XM\n",
    "        dr_dl[k] = X_dl[k+1] - XM  # dropped calls due to full queue\n",
    "        X_dl[k+1] = XM\n",
    "    else\n",
    "        dr_dl[k] = 0\n",
    "    end\n",
    "\n",
    "    # Served custumers counted only after the service time\n",
    "    if k <= t_ser\n",
    "        z_dl[k+1] = 0\n",
    "    else\n",
    "        z_dl[k+1] = z_dl[k] + s_dl[k-t_ser]\n",
    "    end\n",
    "\n",
    "end"
   ]
  },
  {
   "cell_type": "code",
   "execution_count": 8,
   "id": "f445a95d",
   "metadata": {},
   "outputs": [
    {
     "name": "stdout",
     "output_type": "stream",
     "text": [
      "Results\n",
      "┌────────┬────────┬───────┬────────┬────────┬────────┬───────┐\n",
      "│\u001b[1m      t \u001b[0m│\u001b[1m   X_dl \u001b[0m│\u001b[1m  s_dl \u001b[0m│\u001b[1m     dr \u001b[0m│\u001b[1m   z_dl \u001b[0m│\u001b[1m  d_mat \u001b[0m│\u001b[1m a_mat \u001b[0m│\n",
      "├────────┼────────┼───────┼────────┼────────┼────────┼───────┤\n",
      "│  1.000 │  3.000 │ 2.000 │  0.000 │  0.000 │  7.000 │ 0.000 │\n",
      "│  2.000 │  8.000 │ 0.000 │  0.000 │  0.000 │  3.000 │ 1.000 │\n",
      "│  3.000 │ 10.000 │ 2.000 │  0.000 │  0.000 │  3.000 │ 2.000 │\n",
      "│  4.000 │  9.000 │ 0.000 │  1.000 │  0.000 │  7.000 │ 1.000 │\n",
      "│  5.000 │ 10.000 │ 2.000 │  9.000 │  0.000 │ 12.000 │ 1.000 │\n",
      "│  6.000 │ 10.000 │ 0.000 │  5.000 │  2.000 │  9.000 │ 2.000 │\n",
      "│  7.000 │ 10.000 │ 2.000 │  3.000 │  2.000 │  6.000 │ 1.000 │\n",
      "│  8.000 │ 10.000 │ 0.000 │  0.000 │  4.000 │  3.000 │ 1.000 │\n",
      "│  9.000 │ 10.000 │ 2.000 │  0.000 │  4.000 │  0.000 │ 1.000 │\n",
      "│ 10.000 │  7.000 │ 0.000 │  3.000 │  6.000 │  9.000 │ 1.000 │\n",
      "│ 11.000 │ 10.000 │ 2.000 │  8.000 │  6.000 │ 11.000 │ 1.000 │\n",
      "│ 12.000 │ 10.000 │ 0.000 │  9.000 │  8.000 │ 12.000 │ 1.000 │\n",
      "│ 13.000 │ 10.000 │ 2.000 │  8.000 │  8.000 │ 12.000 │ 2.000 │\n",
      "│ 14.000 │ 10.000 │ 0.000 │  8.000 │ 10.000 │ 12.000 │ 2.000 │\n",
      "│ 15.000 │ 10.000 │ 2.000 │  0.000 │ 10.000 │  2.000 │ 0.000 │\n",
      "│ 16.000 │ 10.000 │ 0.000 │  0.000 │ 12.000 │  0.000 │ 1.000 │\n",
      "│ 17.000 │  9.000 │ 2.000 │  0.000 │ 12.000 │  6.000 │ 1.000 │\n",
      "│ 18.000 │ 10.000 │ 0.000 │ 10.000 │ 14.000 │ 13.000 │ 1.000 │\n",
      "│ 19.000 │ 10.000 │ 2.000 │  2.000 │ 14.000 │  6.000 │ 2.000 │\n",
      "│ 20.000 │ 10.000 │ 0.000 │ 10.000 │ 16.000 │ 13.000 │ 1.000 │\n",
      "└────────┴────────┴───────┴────────┴────────┴────────┴───────┘\n"
     ]
    }
   ],
   "source": [
    "data = hcat(t, X_dl[1:horiz,1], s_dl[1:horiz,1], dr, z_dl[1:horiz,1], d_mat[:,1], a_mat[:,1])\n",
    "header = ([\"t\", \"X_dl\", \"s_dl\", \"dr\", \"z_dl\", \"d_mat\", \"a_mat\"]);\n",
    "printTable(data, header)"
   ]
  },
  {
   "cell_type": "markdown",
   "id": "c3e460b3",
   "metadata": {},
   "source": [
    "## Short version with delay and server ocupied \n",
    "A new client can only enter the server after the previous one has been served."
   ]
  },
  {
   "cell_type": "code",
   "execution_count": null,
   "id": "0f79e2ea",
   "metadata": {},
   "outputs": [],
   "source": [
    "# State variables\n",
    "X_dl = zeros(Int, horiz+1)     # current number of customers in queue x(k)\n",
    "s_dl = zeros(Int, horiz)       # number of customers entering server per timestep\n",
    "s_end = zeros(Int, horiz)      # number of served customers per timestep\n",
    "dr_dl = zeros(Int, horiz)      # dropped due to full buffer\n",
    "z_dl = zeros(Int, horiz+1)     # custumers served\n",
    "\n",
    "X_dl[1] = 3  # initial state\n",
    "s_dl[1] = 0\n",
    "z_dl[1] = 0\n",
    "\n",
    "# Servers\n",
    "t_ser = [2, 3] # delay to serve one customer on\n",
    "t_serM = 1 + maximum(t_ser) # max time to serve one customer\n",
    "\n",
    "\n",
    "### Version 0: st_ser is bool. Using conveyor logic ###\n",
    "st_ser = zeros(n_ser, horiz+1) # state of servers, where 0 means free and > 1 means busy\n",
    "conv_ser = zeros(n_ser, t_serM) # servers conveyor\n",
    "\n",
    "for k in 1:horiz\n",
    "    for i in 1:n_ser\n",
    "        \n",
    "        conv_ser[i, 2:t_serM] = conv_ser[i, 1:t_serM-1] # shift the state of server i\n",
    "        conv_ser[i, 1] = 0 # reset the first element of conveyor\n",
    "        \n",
    "        st_ser[i, k] = sum(conv_ser[i, :]) \n",
    "        # If server is free, start serving a customer\n",
    "        if st_ser[i, k] == 0 && X_dl[k] > 0\n",
    "            s_dl[k] += 1\n",
    "            conv_ser[i, t_serM-t_ser[i]] = 1\n",
    "        end\n",
    "        if st_ser[i, k] == 0 && k > 1 \n",
    "            s_end[k] += 1\n",
    "        end\n",
    "    end\n",
    "\n",
    "#### Version 1: st_ser is an int. No conveyor ###\n",
    "# st_ser = zeros(n_ser, horiz+1) # state of servers, where 0 means free and > 0 means busy with remaining time\n",
    "# for k in 1:horiz\n",
    "\n",
    "#     for i in 1:n_ser\n",
    "\n",
    "#         # If server is free, start serving a customer\n",
    "#         if st_ser[i, k] == 0 && X_dl[k] > 0\n",
    "#             s_dl[k] += 1\n",
    "#             st_ser[i, k+1] = t_ser[i]\n",
    "\n",
    "#             if k > 1 \n",
    "#                 s_end[k] += 1\n",
    "#             end\n",
    "#         else \n",
    "#             st_ser[i, k+1] = st_ser[i, k] - 1  # decrement the remaining service time\n",
    "#         end\n",
    "#     end\n",
    "\n",
    "    X_dl[k+1] = X_dl[k] + d[k] - s_dl[k] -a[k]\n",
    "\n",
    "    # If queue exceeds max length, drop excess\n",
    "    if X_dl[k+1] > XM\n",
    "        dr_dl[k] = X_dl[k+1] - XM  # dropped calls due to full queue\n",
    "        X_dl[k+1] = XM\n",
    "    else\n",
    "        dr_dl[k] = 0\n",
    "    end\n",
    "        \n",
    "    z_dl[k+1] = z_dl[k] + s_end[k]\n",
    "end"
   ]
  },
  {
   "cell_type": "code",
   "execution_count": 30,
   "id": "b228900b",
   "metadata": {},
   "outputs": [
    {
     "name": "stdout",
     "output_type": "stream",
     "text": [
      "Results\n",
      "┌────────┬────────┬───────┬───────┬─────────┬─────────┬────────┬────────┬────────┬───────┐\n",
      "│\u001b[1m      t \u001b[0m│\u001b[1m   X_dl \u001b[0m│\u001b[1m  s_dl \u001b[0m│\u001b[1m s_end \u001b[0m│\u001b[1m st_ser1 \u001b[0m│\u001b[1m st_ser2 \u001b[0m│\u001b[1m     dr \u001b[0m│\u001b[1m   z_dl \u001b[0m│\u001b[1m  d_mat \u001b[0m│\u001b[1m a_mat \u001b[0m│\n",
      "├────────┼────────┼───────┼───────┼─────────┼─────────┼────────┼────────┼────────┼───────┤\n",
      "│  1.000 │  3.000 │ 2.000 │ 0.000 │   0.000 │   0.000 │  0.000 │  0.000 │  7.000 │ 0.000 │\n",
      "│  2.000 │  8.000 │ 0.000 │ 0.000 │   1.000 │   1.000 │  0.000 │  0.000 │  3.000 │ 1.000 │\n",
      "│  3.000 │ 10.000 │ 0.000 │ 0.000 │   1.000 │   1.000 │  0.000 │  0.000 │  3.000 │ 2.000 │\n",
      "│  4.000 │ 10.000 │ 1.000 │ 1.000 │   0.000 │   1.000 │  1.000 │  0.000 │  7.000 │ 1.000 │\n",
      "│  5.000 │ 10.000 │ 1.000 │ 1.000 │   1.000 │   0.000 │  9.000 │  1.000 │ 12.000 │ 1.000 │\n",
      "│  6.000 │ 10.000 │ 0.000 │ 0.000 │   1.000 │   1.000 │  5.000 │  2.000 │  9.000 │ 2.000 │\n",
      "│  7.000 │ 10.000 │ 1.000 │ 1.000 │   0.000 │   1.000 │  3.000 │  2.000 │  6.000 │ 1.000 │\n",
      "│  8.000 │ 10.000 │ 0.000 │ 0.000 │   1.000 │   1.000 │  0.000 │  3.000 │  3.000 │ 1.000 │\n",
      "│  9.000 │ 10.000 │ 1.000 │ 1.000 │   1.000 │   0.000 │  0.000 │  3.000 │  0.000 │ 1.000 │\n",
      "│ 10.000 │  8.000 │ 1.000 │ 1.000 │   0.000 │   1.000 │  3.000 │  4.000 │  9.000 │ 1.000 │\n",
      "│ 11.000 │ 10.000 │ 0.000 │ 0.000 │   1.000 │   1.000 │  8.000 │  5.000 │ 11.000 │ 1.000 │\n",
      "│ 12.000 │ 10.000 │ 0.000 │ 0.000 │   1.000 │   1.000 │  9.000 │  5.000 │ 12.000 │ 1.000 │\n",
      "│ 13.000 │ 10.000 │ 2.000 │ 2.000 │   0.000 │   0.000 │  8.000 │  5.000 │ 12.000 │ 2.000 │\n",
      "│ 14.000 │ 10.000 │ 0.000 │ 0.000 │   1.000 │   1.000 │  8.000 │  7.000 │ 12.000 │ 2.000 │\n",
      "│ 15.000 │ 10.000 │ 0.000 │ 0.000 │   1.000 │   1.000 │  0.000 │  7.000 │  2.000 │ 0.000 │\n",
      "│ 16.000 │ 10.000 │ 1.000 │ 1.000 │   0.000 │   1.000 │  0.000 │  7.000 │  0.000 │ 1.000 │\n",
      "│ 17.000 │  8.000 │ 1.000 │ 1.000 │   1.000 │   0.000 │  0.000 │  8.000 │  6.000 │ 1.000 │\n",
      "│ 18.000 │ 10.000 │ 0.000 │ 0.000 │   1.000 │   1.000 │ 10.000 │  9.000 │ 13.000 │ 1.000 │\n",
      "│ 19.000 │ 10.000 │ 1.000 │ 1.000 │   0.000 │   1.000 │  2.000 │  9.000 │  6.000 │ 2.000 │\n",
      "│ 20.000 │ 10.000 │ 0.000 │ 0.000 │   1.000 │   1.000 │ 10.000 │ 10.000 │ 13.000 │ 1.000 │\n",
      "└────────┴────────┴───────┴───────┴─────────┴─────────┴────────┴────────┴────────┴───────┘\n"
     ]
    }
   ],
   "source": [
    "data = hcat(t, X_dl[1:horiz,1], s_dl[1:horiz,1], s_end, st_ser[1, 1:horiz], st_ser[2, 1:horiz],  dr, z_dl[1:horiz,1], d_mat[:,1], a_mat[:,1])\n",
    "header = ([\"t\", \"X_dl\", \"s_dl\", \"s_end\", \"st_ser1\", \"st_ser2\", \"dr\", \"z_dl\", \"d_mat\", \"a_mat\"]);\n",
    "printTable(data, header)"
   ]
  },
  {
   "cell_type": "markdown",
   "id": "a3a82d60",
   "metadata": {},
   "source": [
    "## Multiple entry points to conveyor\n",
    "\n",
    "A new client can only enter the server after the previous one has been served.\n",
    "The service time is variable and is represend as the random conveyor entry point. "
   ]
  },
  {
   "cell_type": "code",
   "execution_count": null,
   "id": "67c4d186",
   "metadata": {},
   "outputs": [],
   "source": [
    "# State variables\n",
    "X_dl = zeros(Int, horiz+1)     # current number of customers in queue x(k)\n",
    "s_dl = zeros(Int, horiz+1)     # number of customers entering server per timestep\n",
    "s_end = zeros(Int, horiz)      # number of served customers per timestep\n",
    "dr_dl = zeros(Int, horiz)      # dropped due to full buffer\n",
    "z_dl = zeros(Int, horiz+1)     # custumers served\n",
    "\n",
    "X_dl[1] = 3  # initial state\n",
    "s_dl[1] = 0\n",
    "z_dl[1] = 0\n",
    "\n",
    "# Servers\n",
    "t_serM = 4 # maximum time to serve one customer \n",
    "st_ser = zeros(n_ser, horiz+1) # state of servers\n",
    "conv_ser = zeros(n_ser, t_serM) # servers conveyor\n",
    "\n",
    "\n",
    "for k in 1:horiz\n",
    "    for i in 1:n_ser\n",
    "        \n",
    "        conv_ser[i, 2:t_serM] = conv_ser[i, 1:t_serM-1] # shift the state of server i\n",
    "        conv_ser[i, 1] = 0 # reset the first element of conveyor\n",
    "\n",
    "        st_ser[i, k] = sum(conv_ser[i, :]) \n",
    "        # If server is free, start serving a customer\n",
    "        if st_ser[i, k] == 0 && X_dl[k] > 0\n",
    "            s_dl[k] += 1\n",
    "            t_ser = rand(1:t_serM-1)  # randomly choose the service time for the server\n",
    "            # println(\"k: $k, i: $i, t_ser: $t_ser\")\n",
    "            conv_ser[i, t_serM-t_ser] = 1\n",
    "        end\n",
    "        if st_ser[i, k] == 0 && k > 1 \n",
    "            s_end[k] += 1\n",
    "        end\n",
    "    end\n",
    "\n",
    "\n",
    "    X_dl[k+1] = X_dl[k] + d[k] - s_dl[k] -a[k]\n",
    "\n",
    "    # If queue exceeds max length, drop excess\n",
    "    if X_dl[k+1] > XM\n",
    "        dr_dl[k] = X_dl[k+1] - XM  # dropped calls due to full queue\n",
    "        X_dl[k+1] = XM\n",
    "    else\n",
    "        dr_dl[k] = 0\n",
    "    end\n",
    "\n",
    "    # Served custumers counted only after the service time\n",
    "    z_dl[k+1] = z_dl[k] + s_end[k]\n",
    "\n",
    "end"
   ]
  },
  {
   "cell_type": "code",
   "execution_count": 34,
   "id": "72b459f5",
   "metadata": {},
   "outputs": [
    {
     "name": "stdout",
     "output_type": "stream",
     "text": [
      "Results\n",
      "┌────────┬────────┬───────┬───────┬─────────┬─────────┬────────┬────────┬────────┬───────┐\n",
      "│\u001b[1m      t \u001b[0m│\u001b[1m   X_dl \u001b[0m│\u001b[1m  s_dl \u001b[0m│\u001b[1m s_end \u001b[0m│\u001b[1m st_ser1 \u001b[0m│\u001b[1m st_ser2 \u001b[0m│\u001b[1m     dr \u001b[0m│\u001b[1m   z_dl \u001b[0m│\u001b[1m  d_mat \u001b[0m│\u001b[1m a_mat \u001b[0m│\n",
      "├────────┼────────┼───────┼───────┼─────────┼─────────┼────────┼────────┼────────┼───────┤\n",
      "│  1.000 │  3.000 │ 2.000 │ 0.000 │   0.000 │   0.000 │  0.000 │  0.000 │  7.000 │ 0.000 │\n",
      "│  2.000 │  8.000 │ 0.000 │ 0.000 │   1.000 │   1.000 │  0.000 │  0.000 │  3.000 │ 1.000 │\n",
      "│  3.000 │ 10.000 │ 0.000 │ 0.000 │   1.000 │   1.000 │  0.000 │  0.000 │  3.000 │ 2.000 │\n",
      "│  4.000 │ 10.000 │ 1.000 │ 1.000 │   1.000 │   0.000 │  1.000 │  0.000 │  7.000 │ 1.000 │\n",
      "│  5.000 │ 10.000 │ 1.000 │ 1.000 │   0.000 │   1.000 │  9.000 │  1.000 │ 12.000 │ 1.000 │\n",
      "│  6.000 │ 10.000 │ 0.000 │ 0.000 │   1.000 │   1.000 │  5.000 │  2.000 │  9.000 │ 2.000 │\n",
      "│  7.000 │ 10.000 │ 1.000 │ 1.000 │   0.000 │   1.000 │  3.000 │  2.000 │  6.000 │ 1.000 │\n",
      "│  8.000 │ 10.000 │ 1.000 │ 1.000 │   1.000 │   0.000 │  0.000 │  3.000 │  3.000 │ 1.000 │\n",
      "│  9.000 │ 10.000 │ 0.000 │ 0.000 │   1.000 │   1.000 │  0.000 │  4.000 │  0.000 │ 1.000 │\n",
      "│ 10.000 │  9.000 │ 0.000 │ 0.000 │   1.000 │   1.000 │  3.000 │  4.000 │  9.000 │ 1.000 │\n",
      "│ 11.000 │ 10.000 │ 1.000 │ 1.000 │   0.000 │   1.000 │  8.000 │  4.000 │ 11.000 │ 1.000 │\n",
      "│ 12.000 │ 10.000 │ 1.000 │ 1.000 │   1.000 │   0.000 │  9.000 │  5.000 │ 12.000 │ 1.000 │\n",
      "│ 13.000 │ 10.000 │ 1.000 │ 1.000 │   0.000 │   1.000 │  8.000 │  6.000 │ 12.000 │ 2.000 │\n",
      "│ 14.000 │ 10.000 │ 0.000 │ 0.000 │   1.000 │   1.000 │  8.000 │  7.000 │ 12.000 │ 2.000 │\n",
      "│ 15.000 │ 10.000 │ 0.000 │ 0.000 │   1.000 │   1.000 │  0.000 │  7.000 │  2.000 │ 0.000 │\n",
      "│ 16.000 │ 10.000 │ 2.000 │ 2.000 │   0.000 │   0.000 │  0.000 │  7.000 │  0.000 │ 1.000 │\n",
      "│ 17.000 │  7.000 │ 0.000 │ 0.000 │   1.000 │   1.000 │  0.000 │  9.000 │  6.000 │ 1.000 │\n",
      "│ 18.000 │ 10.000 │ 0.000 │ 0.000 │   1.000 │   1.000 │ 10.000 │  9.000 │ 13.000 │ 1.000 │\n",
      "│ 19.000 │ 10.000 │ 1.000 │ 1.000 │   1.000 │   0.000 │  2.000 │  9.000 │  6.000 │ 2.000 │\n",
      "│ 20.000 │ 10.000 │ 1.000 │ 1.000 │   0.000 │   1.000 │ 10.000 │ 10.000 │ 13.000 │ 1.000 │\n",
      "└────────┴────────┴───────┴───────┴─────────┴─────────┴────────┴────────┴────────┴───────┘\n"
     ]
    }
   ],
   "source": [
    "data = hcat(t, X_dl[1:horiz,1], s_dl[1:horiz,1], s_end, st_ser[1, 1:horiz], st_ser[2, 1:horiz],  dr, z_dl[1:horiz,1], d_mat[:,1], a_mat[:,1])\n",
    "header = ([\"t\", \"X_dl\", \"s_dl\", \"s_end\", \"st_ser1\", \"st_ser2\", \"dr\", \"z_dl\", \"d_mat\", \"a_mat\"]);\n",
    "printTable(data, header)"
   ]
  },
  {
   "cell_type": "markdown",
   "id": "c497a994",
   "metadata": {},
   "source": [
    "## Multiple entry points to conveyor and multiple clients on the same server\n",
    "\n",
    "Version based on the model proposed in 31/05.\n",
    "The service time is variable and is represend as the random conveyor entry point. "
   ]
  },
  {
   "cell_type": "code",
   "execution_count": 21,
   "id": "ebc41b71",
   "metadata": {},
   "outputs": [
    {
     "data": {
      "text/plain": [
       "P (generic function with 1 method)"
      ]
     },
     "execution_count": 21,
     "metadata": {},
     "output_type": "execute_result"
    }
   ],
   "source": [
    "function P(t_serM, conv_ser_i)\n",
    "    found_slot = false\n",
    "    \n",
    "    while !found_slot\n",
    "        t_ser = rand(1:t_serM-1)  # randomly choose the service time for the server\n",
    "\n",
    "        if conv_ser_i[t_serM-t_ser] == 0\n",
    "            conv_ser_i[t_serM-t_ser] = 1\n",
    "            found_slot = true \n",
    "        end\n",
    "    end\n",
    "\n",
    "    return conv_ser_i\n",
    "end"
   ]
  },
  {
   "cell_type": "code",
   "execution_count": null,
   "id": "36018059",
   "metadata": {},
   "outputs": [
    {
     "name": "stdout",
     "output_type": "stream",
     "text": [
      "[0.0 1.0 0.0 0.0; 0.0 1.0 0.0 0.0]\n",
      "[1.0 0.0 1.0 0.0; 1.0 0.0 1.0 0.0]\n",
      "[0.0 1.0 1.0 1.0; 1.0 1.0 0.0 1.0]\n",
      "[0.0 1.0 1.0 1.0; 1.0 1.0 1.0 0.0]\n",
      "[0.0 1.0 1.0 1.0; 1.0 1.0 1.0 1.0]\n",
      "[1.0 0.0 1.0 1.0; 1.0 1.0 1.0 1.0]\n",
      "[0.0 1.0 1.0 1.0; 1.0 1.0 1.0 1.0]\n",
      "[1.0 0.0 1.0 1.0; 1.0 1.0 1.0 1.0]\n",
      "[0.0 1.0 1.0 1.0; 1.0 1.0 1.0 1.0]\n",
      "[1.0 0.0 1.0 1.0; 1.0 1.0 1.0 1.0]\n",
      "[0.0 1.0 1.0 1.0; 1.0 1.0 1.0 1.0]\n",
      "[0.0 1.0 1.0 1.0; 1.0 1.0 1.0 1.0]\n",
      "[0.0 1.0 1.0 1.0; 1.0 1.0 1.0 1.0]\n",
      "[0.0 1.0 1.0 1.0; 1.0 1.0 1.0 1.0]\n",
      "[1.0 0.0 1.0 1.0; 1.0 1.0 1.0 1.0]\n",
      "[1.0 1.0 0.0 1.0; 1.0 1.0 1.0 1.0]\n",
      "[1.0 1.0 1.0 0.0; 1.0 1.0 1.0 1.0]\n",
      "[1.0 1.0 1.0 1.0; 1.0 1.0 1.0 1.0]\n",
      "[1.0 1.0 1.0 1.0; 1.0 1.0 1.0 1.0]\n",
      "[1.0 1.0 1.0 1.0; 1.0 1.0 1.0 1.0]\n"
     ]
    }
   ],
   "source": [
    "# State variables\n",
    "X_dl = zeros(Int, horiz+1)     # current number of customers in queue x(k)\n",
    "s_dl = zeros(Int, horiz+1)     # number of customers entering server per timestep\n",
    "s_end = zeros(Int, horiz+1)    # number of served customers per timestep\n",
    "dr_dl = zeros(Int, horiz)      # dropped due to full buffer\n",
    "z_dl = zeros(Int, horiz+1)     # custumers served\n",
    "\n",
    "X_dl[1] = 3  # initial state\n",
    "s_dl[1] = 0\n",
    "z_dl[1] = 0\n",
    "\n",
    "# Servers\n",
    "t_serM = 4 # maximum time to serve one customer \n",
    "# st_ser = zeros(n_ser, horiz+1) # state of servers\n",
    "conv_ser = zeros(n_ser, t_serM) # servers conveyor\n",
    "\n",
    "\n",
    "for k in 1:horiz\n",
    "    for i in 1:n_ser\n",
    "        \n",
    "        conv_ser[i, 2:t_serM] = conv_ser[i, 1:t_serM-1] # shift the state of server i\n",
    "        conv_ser[i, 1] = 0 # reset the first element of conveyor\n",
    "\n",
    "        if X_dl[k] > 0\n",
    "            s_dl[k] += 1\n",
    "            conv_ser[i, :] = P(t_serM, conv_ser[i, :])  # randomly choose the service time for the server\n",
    "        end    \n",
    "        if k > 1 && conv_ser[i, t_serM] == 1\n",
    "            s_end[k+1] += 1\n",
    "        end\n",
    "    end\n",
    "    println(conv_ser)\n",
    "\n",
    "    X_dl[k+1] = X_dl[k] + d[k] - s_dl[k] -a[k]\n",
    "\n",
    "    # If queue exceeds max length, drop excess\n",
    "    if X_dl[k+1] > XM\n",
    "        dr_dl[k] = X_dl[k+1] - XM  # dropped calls due to full queue\n",
    "        X_dl[k+1] = XM\n",
    "    else\n",
    "        dr_dl[k] = 0\n",
    "    end\n",
    "\n",
    "    # Served custumers counted only after the service time\n",
    "    z_dl[k+1] = z_dl[k] + s_end[k]\n",
    "end"
   ]
  },
  {
   "cell_type": "markdown",
   "id": "9888b821",
   "metadata": {},
   "source": [
    "After t_serM steps only the frist slot of each conveyor will be free and customers will always be sent to that position."
   ]
  },
  {
   "cell_type": "code",
   "execution_count": 43,
   "id": "e3aaac49",
   "metadata": {},
   "outputs": [
    {
     "name": "stdout",
     "output_type": "stream",
     "text": [
      "Results\n",
      "┌────────┬────────┬───────┬───────┬────────┬────────┬────────┬───────┐\n",
      "│\u001b[1m      t \u001b[0m│\u001b[1m   X_dl \u001b[0m│\u001b[1m  s_dl \u001b[0m│\u001b[1m s_end \u001b[0m│\u001b[1m     dr \u001b[0m│\u001b[1m   z_dl \u001b[0m│\u001b[1m  d_mat \u001b[0m│\u001b[1m a_mat \u001b[0m│\n",
      "├────────┼────────┼───────┼───────┼────────┼────────┼────────┼───────┤\n",
      "│  1.000 │  3.000 │ 2.000 │ 0.000 │  0.000 │  0.000 │  7.000 │ 0.000 │\n",
      "│  2.000 │  8.000 │ 2.000 │ 0.000 │  0.000 │  0.000 │  3.000 │ 1.000 │\n",
      "│  3.000 │  8.000 │ 2.000 │ 0.000 │  0.000 │  0.000 │  3.000 │ 2.000 │\n",
      "│  4.000 │  7.000 │ 2.000 │ 2.000 │  1.000 │  0.000 │  7.000 │ 1.000 │\n",
      "│  5.000 │ 10.000 │ 2.000 │ 1.000 │  9.000 │  2.000 │ 12.000 │ 1.000 │\n",
      "│  6.000 │ 10.000 │ 2.000 │ 2.000 │  5.000 │  3.000 │  9.000 │ 2.000 │\n",
      "│  7.000 │ 10.000 │ 2.000 │ 2.000 │  3.000 │  5.000 │  6.000 │ 1.000 │\n",
      "│  8.000 │ 10.000 │ 2.000 │ 2.000 │  0.000 │  7.000 │  3.000 │ 1.000 │\n",
      "│  9.000 │ 10.000 │ 2.000 │ 2.000 │  0.000 │  9.000 │  0.000 │ 1.000 │\n",
      "│ 10.000 │  7.000 │ 2.000 │ 2.000 │  3.000 │ 11.000 │  9.000 │ 1.000 │\n",
      "│ 11.000 │ 10.000 │ 2.000 │ 2.000 │  8.000 │ 13.000 │ 11.000 │ 1.000 │\n",
      "│ 12.000 │ 10.000 │ 2.000 │ 2.000 │  9.000 │ 15.000 │ 12.000 │ 1.000 │\n",
      "│ 13.000 │ 10.000 │ 2.000 │ 2.000 │  8.000 │ 17.000 │ 12.000 │ 2.000 │\n",
      "│ 14.000 │ 10.000 │ 2.000 │ 2.000 │  8.000 │ 19.000 │ 12.000 │ 2.000 │\n",
      "│ 15.000 │ 10.000 │ 2.000 │ 2.000 │  0.000 │ 21.000 │  2.000 │ 0.000 │\n",
      "│ 16.000 │ 10.000 │ 2.000 │ 2.000 │  0.000 │ 23.000 │  0.000 │ 1.000 │\n",
      "│ 17.000 │  7.000 │ 2.000 │ 2.000 │  0.000 │ 25.000 │  6.000 │ 1.000 │\n",
      "│ 18.000 │ 10.000 │ 2.000 │ 1.000 │ 10.000 │ 27.000 │ 13.000 │ 1.000 │\n",
      "│ 19.000 │ 10.000 │ 2.000 │ 2.000 │  2.000 │ 28.000 │  6.000 │ 2.000 │\n",
      "│ 20.000 │ 10.000 │ 2.000 │ 2.000 │ 10.000 │ 30.000 │ 13.000 │ 1.000 │\n",
      "└────────┴────────┴───────┴───────┴────────┴────────┴────────┴───────┘\n"
     ]
    }
   ],
   "source": [
    "data = hcat(t, X_dl[1:horiz,1], s_dl[1:horiz,1], s_end[1:horiz,1], dr, z_dl[1:horiz,1], d_mat[:,1], a_mat[:,1])\n",
    "header = ([\"t\", \"X_dl\", \"s_dl\", \"s_end\", \"dr\", \"z_dl\", \"d_mat\", \"a_mat\"]);\n",
    "printTable(data, header)"
   ]
  },
  {
   "cell_type": "code",
   "execution_count": null,
   "id": "c7f48c2c",
   "metadata": {},
   "outputs": [],
   "source": []
  }
 ],
 "metadata": {
  "kernelspec": {
   "display_name": "Julia 1.11.5",
   "language": "julia",
   "name": "julia-1.11"
  },
  "language_info": {
   "file_extension": ".jl",
   "mimetype": "application/julia",
   "name": "julia",
   "version": "1.11.5"
  }
 },
 "nbformat": 4,
 "nbformat_minor": 5
}
