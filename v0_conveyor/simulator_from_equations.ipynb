{
 "cells": [
  {
   "cell_type": "code",
   "execution_count": 1,
   "id": "5e2c6f28",
   "metadata": {},
   "outputs": [],
   "source": [
    "using Random\n",
    "using DelimitedFiles\n",
    "using PrettyTables\n",
    "using Distributions\n",
    "using Plots\n",
    "using LaTeXStrings"
   ]
  },
  {
   "cell_type": "code",
   "execution_count": 2,
   "id": "ca611b56",
   "metadata": {},
   "outputs": [
    {
     "data": {
      "text/plain": [
       "plotData (generic function with 1 method)"
      ]
     },
     "execution_count": 2,
     "metadata": {},
     "output_type": "execute_result"
    }
   ],
   "source": [
    "function demand_generator_mat(N_dem, demand_length, dM, demand_type, std_dev)\n",
    "    d_mat = zeros(demand_length, N_dem)\n",
    "    for j in 1:N_dem\n",
    "        #This segment generates uniform demands, of length demand_length,in the interval [-d_max,d_max] \n",
    "        if demand_type == \"uniform\"\n",
    "            d_mat[:,j] = Int.(round.(rand(Uniform(0,dM),demand_length)))  \n",
    "        end\n",
    "        ##This segment generates approximately normally distributed demands\n",
    "        if demand_type == \"normal\"\n",
    "            d_mat[:,j] = Int.(round.(dM .+ rand(Normal(0, std_dev), demand_length)))\n",
    "        end\n",
    "        ##This segment generates demands with a Poisson distribution\n",
    "        if demand_type == \"poisson\"\n",
    "            d_mat[:,j] = Int.(round.(dM .+ rand(Poisson(0, std_dev), demand_length)))\n",
    "         end\n",
    "    end\n",
    "    return d_mat           \n",
    "end\n",
    "\n",
    "\n",
    "function printTable(data, header)\n",
    "    println(\"Results\")\n",
    "    pretty_table(data; header=header,formatters=ft_printf(\"%5.3f\",1:11))\n",
    "end\n",
    "\n",
    "\n",
    "function plotData(evolution, ylabel, title)\n",
    "    gr()\n",
    "    plot(evolution, layout = 4, seriestype=:scatter, label=false,xlabel=[L\"k\" L\"k\" L\"k\" L\"k\"],ylabel=ylabel, title=title,\n",
    "        palette=cgrad.([:grays :blues :heat :lightrainbow]), bg_inside=[:lightblue :lightblue :lightblue :lightblue])\n",
    "end"
   ]
  },
  {
   "cell_type": "code",
   "execution_count": 3,
   "id": "085cb974",
   "metadata": {},
   "outputs": [],
   "source": [
    "# Parameters\n",
    "horiz = 20           # total horizon\n",
    "n_ser = 2            # number of servers\n",
    "YM = 10              # max buffer legnth before dropping calls\n",
    "XM = 6               # max queue length \n",
    "phiM = 4             # max adimission to queue\n",
    "\n",
    "t = 1:horiz\n",
    "\n",
    "d_fn = \"..//CC_simple//d_mat_Thu_22_May_2025_19_39_50.txt\";\n",
    "a_fn = \"..//CC_simple//a_mat_Thu_22_May_2025_19_39_50.txt\";\n",
    "d_mat = DelimitedFiles.readdlm(d_fn);\n",
    "a_mat = DelimitedFiles.readdlm(a_fn);\n",
    "\n",
    "# d_mat = demand_generator_mat(1, 20, 5, \"uniform\", 1)\n",
    "# a_mat = demand_generator_mat(1,20,1,\"uniform\",0.5)\n",
    "\n",
    "d = d_mat[1:horiz, 1];  # demand for incoming calls\n",
    "a = a_mat[1:horiz, 1];  # abandonment for calls"
   ]
  },
  {
   "cell_type": "code",
   "execution_count": 4,
   "id": "26f599d9",
   "metadata": {},
   "outputs": [],
   "source": [
    "# State variables\n",
    "X = zeros(Int, horiz+1)     # current number of customers in queue x(k)\n",
    "s = zeros(Int, horiz+1)     # number of served customers per timestep\n",
    "dr = zeros(Int, horiz)      # dropped due to full buffer\n",
    "z = zeros(Int, horiz+1)     # custumers served\n",
    "\n",
    "q = zeros(Int, horiz+1)     # custumers entering queue\n",
    "n = zeros(Int, horiz+1)     # number of empty slots in the queue\n",
    "\n",
    "X[1] = 3  # initial state\n",
    "s[1] = n_ser\n",
    "z[1] = 0\n",
    "\n",
    "for k in 1:horiz\n",
    "    n[k] = XM - X[k] +a[k] + s[k]\n",
    "    q[k] = min(n[k], d[k])\n",
    "\n",
    "    X[k+1] = X[k] + q[k] - a[k] - s[k]\n",
    "\n",
    "    # If queue exceeds max length, drop excess\n",
    "    if d[k] > n[k]\n",
    "        dr[k] = d[k] - n[k]  # dropped calls due to full queue\n",
    "    else\n",
    "        dr[k] = 0\n",
    "    end\n",
    "    \n",
    "    z[k+1] = z[k] + s[k]\n",
    "    # Serve up to number of servers\n",
    "    s[k+1] = min(X[k], n_ser)\n",
    "end"
   ]
  },
  {
   "cell_type": "code",
   "execution_count": 5,
   "id": "e9bcc28b",
   "metadata": {},
   "outputs": [
    {
     "name": "stdout",
     "output_type": "stream",
     "text": [
      "Results\n",
      "┌────────┬───────┬───────┬────────┬────────┬───────┐\n",
      "│\u001b[1m      t \u001b[0m│\u001b[1m     X \u001b[0m│\u001b[1m     s \u001b[0m│\u001b[1m     dr \u001b[0m│\u001b[1m  d_mat \u001b[0m│\u001b[1m a_mat \u001b[0m│\n",
      "├────────┼───────┼───────┼────────┼────────┼───────┤\n",
      "│  1.000 │ 3.000 │ 2.000 │  2.000 │  7.000 │ 0.000 │\n",
      "│  2.000 │ 6.000 │ 2.000 │  0.000 │  3.000 │ 1.000 │\n",
      "│  3.000 │ 6.000 │ 2.000 │  0.000 │  3.000 │ 2.000 │\n",
      "│  4.000 │ 5.000 │ 2.000 │  3.000 │  7.000 │ 1.000 │\n",
      "│  5.000 │ 6.000 │ 2.000 │  9.000 │ 12.000 │ 1.000 │\n",
      "│  6.000 │ 6.000 │ 2.000 │  5.000 │  9.000 │ 2.000 │\n",
      "│  7.000 │ 6.000 │ 2.000 │  3.000 │  6.000 │ 1.000 │\n",
      "│  8.000 │ 6.000 │ 2.000 │  0.000 │  3.000 │ 1.000 │\n",
      "│  9.000 │ 6.000 │ 2.000 │  0.000 │  0.000 │ 1.000 │\n",
      "│ 10.000 │ 3.000 │ 2.000 │  3.000 │  9.000 │ 1.000 │\n",
      "│ 11.000 │ 6.000 │ 2.000 │  8.000 │ 11.000 │ 1.000 │\n",
      "│ 12.000 │ 6.000 │ 2.000 │  9.000 │ 12.000 │ 1.000 │\n",
      "│ 13.000 │ 6.000 │ 2.000 │  8.000 │ 12.000 │ 2.000 │\n",
      "│ 14.000 │ 6.000 │ 2.000 │  8.000 │ 12.000 │ 2.000 │\n",
      "│ 15.000 │ 6.000 │ 2.000 │  0.000 │  2.000 │ 0.000 │\n",
      "│ 16.000 │ 6.000 │ 2.000 │  0.000 │  0.000 │ 1.000 │\n",
      "│ 17.000 │ 3.000 │ 2.000 │  0.000 │  6.000 │ 1.000 │\n",
      "│ 18.000 │ 6.000 │ 2.000 │ 10.000 │ 13.000 │ 1.000 │\n",
      "│ 19.000 │ 6.000 │ 2.000 │  2.000 │  6.000 │ 2.000 │\n",
      "│ 20.000 │ 6.000 │ 2.000 │ 10.000 │ 13.000 │ 1.000 │\n",
      "└────────┴───────┴───────┴────────┴────────┴───────┘\n"
     ]
    }
   ],
   "source": [
    "data = hcat(t, X[1:horiz,1], s[1:horiz,1], dr, d_mat[:,1], a_mat[:,1])\n",
    "header = ([\"t\", \"X\", \"s\", \"dr\", \"d_mat\", \"a_mat\"])\n",
    "\n",
    "printTable(data, header)"
   ]
  },
  {
   "cell_type": "code",
   "execution_count": 12,
   "id": "af64c4c1",
   "metadata": {},
   "outputs": [],
   "source": [
    "# State variables\n",
    "X = zeros(Int, horiz+1)     # current number of customers in queue x(k)\n",
    "s = zeros(Int, horiz)       # number of active servers\n",
    "dr = zeros(Int, horiz)      # dropped due to full buffer\n",
    "z = zeros(Int, horiz+1)     # custumers served\n",
    "\n",
    "q = zeros(Int, horiz+1)     # custumers entering queue\n",
    "n = zeros(Int, horiz+1)     # number of empty slots in the queue\n",
    "\n",
    "# Servers\n",
    "t_ser = [2, 3] # delay to serve one customer on\n",
    "t_serM = 1 + maximum(t_ser) # max time to serve one customer\n",
    "\n",
    "sl = zeros(Int, horiz+1)                    # number of empty servers\n",
    "s_st  = zeros(Int, horiz+1, n_ser)          # servers state, where 0 means free and > 1 means busy\n",
    "se = zeros(Int, horiz+1, n_ser, t_serM)     # server conveyors\n",
    "s_in = zeros(Int, horiz+1, n_ser, t_serM)   # matrix of customers entering the servers\n",
    "\n",
    "c_in = zeros(Int, horiz+1)    # customers entering the servers\n",
    "c_out = zeros(Int, horiz+1)   # number of customers leaving the servers\n",
    "\n",
    "X[1] = 3  # initial state\n",
    "s[1] = 0\n",
    "z[1] = 0\n",
    "\n",
    "\n",
    "\n",
    "for k in 1:horiz\n",
    "\n",
    "    X[k] = XM - X[k] + a[k] + c_in[k]\n",
    "    q[k] = min(n[k], d[k])\n",
    "    s[k] = n_ser # all servers active \n",
    "\n",
    "    s_st[k, :] = sum(se[k, :, :], dims=2) \n",
    "    sl[k] = s[k] - sum(s_st[k, :])  # number of free servers\n",
    "\n",
    "    c_in[k+1] = min(X[k], sl[k])\n",
    "\n",
    "    s_aux = c_in[k] \n",
    "    s_in[k,:,:] = zeros(Int, n_ser, t_serM) \n",
    "    for i in 1:n_ser\n",
    "        if s_st[k,i] == 0 && s_aux > 0  \n",
    "            s_aux -= 1\n",
    "            s_in[k, i, t_serM-t_ser[i]] = 1\n",
    "            # s_in[k, i, rand(1:t_serM)] = 1  # assign a customer to random empty slot in convveyor\n",
    "        end\n",
    "    end        \n",
    "\n",
    "    se[k,:,:] += s_in[k,:,:]\n",
    "    se[k+1, :, 2:t_serM] = se[k, :, 1:t_serM-1]  # shift the state of server i\n",
    "    se[k+1, :, 1] = zeros(n_ser, 1) # reset the first element of conveyor\n",
    "\n",
    "    c_out[k+1] = sum(se[k,:,t_serM])  # number of customers leaving the servers\n",
    "\n",
    "    # println(se[k, :, :], s_st[k,:], s_in[k,:,:])\n",
    "    X[k+1] = X[k] + q[k] - c_in[k] -a[k]\n",
    "\n",
    "    # If queue exceeds max length, drop excess\n",
    "    if d[k] > n[k]\n",
    "        dr[k] = d[k] - n[k]  # dropped calls due to full queue\n",
    "    else\n",
    "        dr[k] = 0\n",
    "    end\n",
    "        \n",
    "    z[k+1] = z[k] + c_out[k]\n",
    "end"
   ]
  },
  {
   "cell_type": "code",
   "execution_count": 13,
   "id": "b56757b3",
   "metadata": {},
   "outputs": [
    {
     "name": "stdout",
     "output_type": "stream",
     "text": [
      "Results\n",
      "┌────────┬───────┬───────┬───────┬─────────┬─────────┬────────┬───────┬────────┬───────┐\n",
      "│\u001b[1m      t \u001b[0m│\u001b[1m     X \u001b[0m│\u001b[1m  c_in \u001b[0m│\u001b[1m c_out \u001b[0m│\u001b[1m st_ser1 \u001b[0m│\u001b[1m st_ser2 \u001b[0m│\u001b[1m     dr \u001b[0m│\u001b[1m     z \u001b[0m│\u001b[1m  d_mat \u001b[0m│\u001b[1m a_mat \u001b[0m│\n",
      "├────────┼───────┼───────┼───────┼─────────┼─────────┼────────┼───────┼────────┼───────┤\n",
      "│  1.000 │ 3.000 │ 0.000 │ 0.000 │   0.000 │   0.000 │  7.000 │ 0.000 │  7.000 │ 0.000 │\n",
      "│  2.000 │ 6.000 │ 2.000 │ 0.000 │   0.000 │   0.000 │  3.000 │ 0.000 │  3.000 │ 1.000 │\n",
      "│  3.000 │ 7.000 │ 2.000 │ 0.000 │   1.000 │   1.000 │  3.000 │ 0.000 │  3.000 │ 2.000 │\n",
      "│  4.000 │ 4.000 │ 0.000 │ 0.000 │   1.000 │   1.000 │  7.000 │ 0.000 │  7.000 │ 1.000 │\n",
      "│  5.000 │ 4.000 │ 0.000 │ 1.000 │   0.000 │   1.000 │ 12.000 │ 0.000 │ 12.000 │ 1.000 │\n",
      "│  6.000 │ 6.000 │ 1.000 │ 1.000 │   0.000 │   0.000 │  9.000 │ 1.000 │  9.000 │ 2.000 │\n",
      "│  7.000 │ 6.000 │ 2.000 │ 0.000 │   1.000 │   0.000 │  6.000 │ 2.000 │  6.000 │ 1.000 │\n",
      "│  8.000 │ 5.000 │ 1.000 │ 0.000 │   1.000 │   1.000 │  3.000 │ 2.000 │  3.000 │ 1.000 │\n",
      "│  9.000 │ 4.000 │ 0.000 │ 1.000 │   0.000 │   1.000 │  0.000 │ 2.000 │  0.000 │ 1.000 │\n",
      "│ 10.000 │ 5.000 │ 1.000 │ 0.000 │   0.000 │   1.000 │  9.000 │ 3.000 │  9.000 │ 1.000 │\n",
      "│ 11.000 │ 5.000 │ 1.000 │ 1.000 │   1.000 │   0.000 │ 11.000 │ 3.000 │ 11.000 │ 1.000 │\n",
      "│ 12.000 │ 5.000 │ 1.000 │ 0.000 │   1.000 │   1.000 │ 12.000 │ 4.000 │ 12.000 │ 1.000 │\n",
      "│ 13.000 │ 5.000 │ 0.000 │ 1.000 │   0.000 │   1.000 │ 12.000 │ 4.000 │ 12.000 │ 2.000 │\n",
      "│ 14.000 │ 6.000 │ 1.000 │ 0.000 │   0.000 │   1.000 │ 12.000 │ 5.000 │ 12.000 │ 2.000 │\n",
      "│ 15.000 │ 4.000 │ 1.000 │ 1.000 │   1.000 │   0.000 │  2.000 │ 5.000 │  2.000 │ 0.000 │\n",
      "│ 16.000 │ 5.000 │ 1.000 │ 0.000 │   1.000 │   1.000 │  0.000 │ 6.000 │  0.000 │ 1.000 │\n",
      "│ 17.000 │ 4.000 │ 0.000 │ 1.000 │   0.000 │   1.000 │  6.000 │ 6.000 │  6.000 │ 1.000 │\n",
      "│ 18.000 │ 5.000 │ 1.000 │ 0.000 │   0.000 │   1.000 │ 13.000 │ 7.000 │ 13.000 │ 1.000 │\n",
      "│ 19.000 │ 6.000 │ 1.000 │ 1.000 │   1.000 │   0.000 │  6.000 │ 7.000 │  6.000 │ 2.000 │\n",
      "│ 20.000 │ 5.000 │ 1.000 │ 0.000 │   1.000 │   1.000 │ 13.000 │ 8.000 │ 13.000 │ 1.000 │\n",
      "└────────┴───────┴───────┴───────┴─────────┴─────────┴────────┴───────┴────────┴───────┘\n"
     ]
    }
   ],
   "source": [
    "data = hcat(t, X[1:horiz,1], c_in[1:horiz,1], c_out[1:horiz, 1], s_st[1:horiz, 1], s_st[1:horiz, 2],  dr, z[1:horiz,1], d_mat[:,1], a_mat[:,1])\n",
    "header = ([\"t\", \"X\", \"c_in\", \"c_out\", \"st_ser1\", \"st_ser2\", \"dr\", \"z\", \"d_mat\", \"a_mat\"]);\n",
    "printTable(data, header)"
   ]
  },
  {
   "cell_type": "code",
   "execution_count": null,
   "id": "1d615a9f",
   "metadata": {},
   "outputs": [],
   "source": [
    "assignments[:, t_serM] .= free_servers_mask .* (customers_to_serve .> 0)"
   ]
  },
  {
   "cell_type": "code",
   "execution_count": null,
   "id": "8839f3ae",
   "metadata": {},
   "outputs": [
    {
     "name": "stdout",
     "output_type": "stream",
     "text": [
      "Bool[0, 1]\n",
      "1\n"
     ]
    },
    {
     "data": {
      "text/plain": [
       "2-element view(::Matrix{Int64}, :, 4) with eltype Int64:\n",
       " 0\n",
       " 1"
      ]
     },
     "execution_count": 8,
     "metadata": {},
     "output_type": "execute_result"
    }
   ],
   "source": [
    "free_servers_mask = s_st[5, :] .== 0\n",
    "println(free_servers_mask)\n",
    "customers_to_serve = min(c_in[5], sum(free_servers_mask))\n",
    "println(2)\n",
    "\n",
    "assignments = zeros(Int, n_ser, t_serM)  # matrix of assignments\n",
    "\n",
    "assignments[:, t_serM] .= free_servers_mask .* (customers_to_serve .> 0)\n"
   ]
  },
  {
   "cell_type": "code",
   "execution_count": 12,
   "id": "430bfe14",
   "metadata": {},
   "outputs": [
    {
     "data": {
      "text/plain": [
       "5-element Vector{Bool}:\n",
       " 1\n",
       " 1\n",
       " 1\n",
       " 1\n",
       " 1"
      ]
     },
     "execution_count": 12,
     "metadata": {},
     "output_type": "execute_result"
    }
   ],
   "source": [
    "n_ser = 5\n",
    "\n",
    "customers_to_serve = 2\n",
    "# Create a vector for the condition\n",
    "condition_vector = fill(customers_to_serve > 0, n_ser)\n"
   ]
  },
  {
   "cell_type": "code",
   "execution_count": null,
   "id": "d8437ffb",
   "metadata": {},
   "outputs": [],
   "source": []
  }
 ],
 "metadata": {
  "kernelspec": {
   "display_name": "Julia 1.11.5",
   "language": "julia",
   "name": "julia-1.11"
  },
  "language_info": {
   "file_extension": ".jl",
   "mimetype": "application/julia",
   "name": "julia",
   "version": "1.11.5"
  }
 },
 "nbformat": 4,
 "nbformat_minor": 5
}
