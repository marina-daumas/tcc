{
 "cells": [
  {
   "cell_type": "markdown",
   "id": "d38ead67",
   "metadata": {},
   "source": [
    "# Conveyor Model Optimizer\n",
    "\n",
    "Customers always enter in the first slot of the server "
   ]
  },
  {
   "cell_type": "code",
   "execution_count": 1,
   "id": "c7dfdb59",
   "metadata": {},
   "outputs": [
    {
     "data": {
      "text/plain": [
       "plotData (generic function with 1 method)"
      ]
     },
     "execution_count": 1,
     "metadata": {},
     "output_type": "execute_result"
    }
   ],
   "source": [
    "using JuMP\n",
    "using HiGHS\n",
    "using Juniper\n",
    "\n",
    "include(\"utils.jl\") # demand_generator_mat, printTable, plotData\n",
    "# include(\"CCParameters.jl\") "
   ]
  },
  {
   "cell_type": "code",
   "execution_count": null,
   "id": "fbed21b4",
   "metadata": {},
   "outputs": [],
   "source": [
    "# Parameters\n",
    "horiz = 3           # total horizon\n",
    "t = 1:horiz\n",
    "\n",
    "# bounds\n",
    "YM = 10              # max buffer legnth before dropping calls\n",
    "XM = 6               # max queue length \n",
    "phiM = 4             # max adimission to queue\n",
    "serM = 2             # number of servers\n",
    "tserM = 3            # max service time\n",
    "\n",
    "\n",
    "# iniital conditions\n",
    "X0 = 3\n",
    "Y0 = 2\n",
    "L0 = 0\n",
    "Z0 = 0\n",
    "\n",
    "createDemands = false\n",
    "if createDemands\n",
    "    d_fn = \"..//CC_simple//d_mat_Thu_22_May_2025_19_39_50.txt\";\n",
    "    a_fn = \"..//CC_simple//a_mat_Thu_22_May_2025_19_39_50.txt\";\n",
    "    d_mat = DelimitedFiles.readdlm(d_fn);\n",
    "    a_mat = DelimitedFiles.readdlm(a_fn);\n",
    "else\n",
    "    d_mat = demand_generator_mat(1, 20, 5, \"uniform\", 1)\n",
    "    a_mat = demand_generator_mat(1,20,1,\"uniform\",0.5)\n",
    "end\n",
    "\n",
    "d = d_mat[1:horiz, 1];  # demand for incoming calls\n",
    "a = a_mat[1:horiz, 1];  # abandonment for calls"
   ]
  },
  {
   "cell_type": "code",
   "execution_count": null,
   "id": "5c952f5e",
   "metadata": {},
   "outputs": [],
   "source": [
    "X = zeros(Int, horiz+1)     # current number of customers in queue x(k)\n",
    "Y = zeros(Int, horiz+1)     # current number of customers in buffer y(k)  \n",
    "Z = zeros(Int, horiz+1)     # custumers served  \n",
    "L = zeros(Int, horiz+1)     # number of customers lost\n",
    "\n",
    "n = zeros(Int, horiz+1)     # number of empty slots in the queue\n",
    "q = zeros(Int, horiz+1)     # custumers entering queue\n",
    "dr = zeros(Int, horiz+1)    # dropped due to full buffer\n",
    "\n",
    "phi = zeros(Int, horiz+1)     # number of customers admitted to queue\n",
    "Cin = zeros(Int, horiz+1)     # number of customers entering server\n",
    "Cout = zeros(Int, horiz+1)    # number of customers leaving server\n",
    "\n",
    "S = zeros(Int, horiz+1)                 # number of active servers\n",
    "Sl = zeros(Int, horiz+1)                # number of free servers\n",
    "Sst = zeros(Bool, horiz+1, serM)        # server status (0 - free, 1 - busy)\n",
    "Sc = zeros(Bool, horiz+1, serM, tserM)  # server conveyor\n",
    "\n",
    "Saux = zeros(Bool, horiz+1, serM)       # auxiliary server variable\n",
    "\n",
    "default_input = zeros(Bool, serM, tserM)  # default input for servers\n",
    "for i in 1:serM\n",
    "    default_input[i, 1] = 1\n",
    "end\n",
    "\n",
    "transition_matrix = zeros(Bool, tserM, tserM)\n",
    "for i in 1:tserM-1\n",
    "    transition_matrix[i, i+1] = 1\n",
    "end"
   ]
  },
  {
   "cell_type": "code",
   "execution_count": null,
   "id": "0456c456",
   "metadata": {},
   "outputs": [],
   "source": [
    "X[1] = X0\n",
    "Y[1] = Y0\n",
    "Z[1] = Z0\n",
    "L[1] = L0"
   ]
  },
  {
   "cell_type": "code",
   "execution_count": null,
   "id": "541b5c67",
   "metadata": {},
   "outputs": [
    {
     "name": "stderr",
     "output_type": "stream",
     "text": [
      "\u001b[33m\u001b[1m┌ \u001b[22m\u001b[39m\u001b[33m\u001b[1mWarning: \u001b[22m\u001b[39mAxis contains one element: 2. If intended, you can safely ignore this warning. To explicitly pass the axis with one element, pass `[2]` instead of `2`.\n",
      "\u001b[33m\u001b[1m└ \u001b[22m\u001b[39m\u001b[90m@ JuMP.Containers ~/.julia/packages/JuMP/LKjRR/src/Containers/DenseAxisArray.jl:185\u001b[39m\n"
     ]
    },
    {
     "ename": "LoadError",
     "evalue": "KeyError: key 1 not found",
     "output_type": "error",
     "traceback": [
      "KeyError: key 1 not found",
      "",
      "Stacktrace:",
      "  [1] getindex(h::Dict{Int64, Int64}, key::Int64)",
      "    @ Base ./dict.jl:477",
      "  [2] getindex",
      "    @ ~/.julia/packages/JuMP/LKjRR/src/Containers/DenseAxisArray.jl:51 [inlined]",
      "  [3] _getindex_recurse",
      "    @ ~/.julia/packages/JuMP/LKjRR/src/Containers/DenseAxisArray.jl:375 [inlined]",
      "  [4] to_index",
      "    @ ~/.julia/packages/JuMP/LKjRR/src/Containers/DenseAxisArray.jl:384 [inlined]",
      "  [5] _getindex_inner(::JuMP.Containers.DenseAxisArray{VariableRef, 3, Tuple{Vector{Int64}, Base.OneTo{Int64}, Base.OneTo{Int64}}, Tuple{JuMP.Containers._AxisLookup{Dict{Int64, Int64}}, JuMP.Containers._AxisLookup{Base.OneTo{Int64}}, JuMP.Containers._AxisLookup{Base.OneTo{Int64}}}}, ::Int64, ::Function, ::Function)",
      "    @ JuMP.Containers ~/.julia/packages/JuMP/LKjRR/src/Containers/DenseAxisArray.jl:415",
      "  [6] #getindex#26",
      "    @ ~/.julia/packages/JuMP/LKjRR/src/Containers/DenseAxisArray.jl:411 [inlined]",
      "  [7] getindex(::JuMP.Containers.DenseAxisArray{VariableRef, 3, Tuple{Vector{Int64}, Base.OneTo{Int64}, Base.OneTo{Int64}}, Tuple{JuMP.Containers._AxisLookup{Dict{Int64, Int64}}, JuMP.Containers._AxisLookup{Base.OneTo{Int64}}, JuMP.Containers._AxisLookup{Base.OneTo{Int64}}}}, ::Int64, ::Function, ::Function)",
      "    @ JuMP.Containers ~/.julia/packages/JuMP/LKjRR/src/Containers/DenseAxisArray.jl:404",
      "  [8] macro expansion",
      "    @ ~/.julia/packages/MutableArithmetics/tNSBd/src/rewrite.jl:371 [inlined]",
      "  [9] macro expansion",
      "    @ ~/.julia/packages/JuMP/LKjRR/src/macros.jl:264 [inlined]",
      " [10] macro expansion",
      "    @ ~/.julia/packages/JuMP/LKjRR/src/macros/@constraint.jl:171 [inlined]",
      " [11] macro expansion",
      "    @ ~/.julia/packages/JuMP/LKjRR/src/macros.jl:402 [inlined]",
      " [12] top-level scope",
      "    @ In[15]:37"
     ]
    }
   ],
   "source": [
    "for t in 1:horiz\n",
    "    cc_lin_conv = Model(HiGHS.Optimizer)\n",
    "    \n",
    "    # For the integer constraint on variable b\n",
    "    M1 = max(d[t], YM)+10; # must be larger than d[t] and n[t] \n",
    "    @variable(cc_lin_conv, b1 , Bin);\n",
    "\n",
    "    M2 = max(X[t], serM)+10; # must be larger than x[k] and Sl[k]\n",
    "    @variable(cc_lin_conv, b2 , Bin);\n",
    "\n",
    "    @variable(cc_lin_conv, 0 <= XL[1:2] <= XM, Int)    \n",
    "    @variable(cc_lin_conv, 0 <= YL[1:2] <= YM, Int)     \n",
    "    @variable(cc_lin_conv, 0 <= ZL[1:2], Int)  \n",
    "    @variable(cc_lin_conv, 0 <= LL[1:2], Int)         \n",
    "                           \n",
    "    @variable(cc_lin_conv, 0 <= nL <= YM, Int) \n",
    "    @variable(cc_lin_conv, 0 <= QL, Int)      \n",
    "    @variable(cc_lin_conv, 0 <= drL, Int)   \n",
    "    \n",
    "    @variable(cc_lin_conv, 0 <= phiL <= phiM, Int)   \n",
    "    @variable(cc_lin_conv, 0 <= CinL[1:2] <= serM, Int)   \n",
    "    @variable(cc_lin_conv, 0 <= CoutL[1:2] <= serM, Int)    \n",
    "\n",
    "    @variable(cc_lin_conv, 0 <= SL <= serM, Int)  \n",
    "    @variable(cc_lin_conv, 0 <= SlL <= serM, Int)  \n",
    "    @variable(cc_lin_conv, 0 <= SstL[1:serM], Bin)  \n",
    "    @variable(cc_lin_conv, 0 <= ScL[2, 1:serM, 1:tserM], Bin) \n",
    "    @variable(cc_lin_conv, 0 <= SinL[1:serM, 1:tserM], Bin)\n",
    "    @variable(cc_lin_conv, 0 <= SauxL[1:serM], Bin)\n",
    "\n",
    "        \n",
    "    # Initial conditions of buffer and queue for each optimization\n",
    "    @constraint(cc_lin_conv, XL[1] == X[t])\n",
    "    @constraint(cc_lin_conv, YL[1] == Y[t])\n",
    "    @constraint(cc_lin_conv, ZL[1] == Z[t])\n",
    "    @constraint(cc_lin_conv, CinL[1] == Cin[t])\n",
    "    @constraint(cc_lin_conv, CoutL[1] == Cout[t])\n",
    "    @constraint(cc_lin_conv, ScL[1, :, :] == Sc[t, :, :])  # server conveyor status\n",
    "\n",
    "    # Problem constraints  \n",
    "    #### DEVERIA TER UMA CONSTRAINT PARA PHI(K+1) <= Y(K)? ####\n",
    "    @constraint(cc_lin_conv, XL[2] == XL[1] + phiL - a[t] - CinL)\n",
    "    @constraint(cc_lin_conv, YL[2] == YL[1] + QL - phiL)\n",
    "    @constraint(cc_lin_conv, ZL[2] == ZL[1] + CoutL)\n",
    "\n",
    "    @constraint(cc_lin_conv, nL == YM - YL[1] + phiL)  # number of empty slots in the queue\n",
    "    @constraint(cc_lin_conv, QL <= d[t])\n",
    "    @constraint(cc_lin_conv, QL <= nL)\n",
    "    @constraint(cc_lin_conv, QL >= d[t]-M1*b1 )\n",
    "    @constraint(cc_lin_conv, QL >= nL-(1-b1)*M1)  \n",
    "\n",
    "    @constraint(cc_nl_fobj_os, drL >= d[t]-nL)         \n",
    "    @constraint(cc_nl_fobj_os, drL <= d[t]-QL) \n",
    "\n",
    "    @constraint(cc_lin_conv, SL == serM)              \n",
    "    @constraint(cc_lin_conv, SstL == sums(ScL, dims=2))  \n",
    "    @constraint(cc_lin_conv, SlL == SL - sum(SstL))    \n",
    "    @constraint(cc_lin_conv, [i=1:serM, j=1:tser-1], SinL[i, j] == default_input[i, j] * SauxL[i])\n",
    "    @constraint(cc_lin_conv, [i=1:serM], ScL[2, i, :] .== transition_matrix * ScL[1, i, :] + SinL[i, :])\n",
    "\n",
    "    @constraint(cc_lin_conv, CinL[2] <= X[1])\n",
    "    @constraint(cc_lin_conv, CinL[2] <= SlL)\n",
    "    @constraint(cc_lin_conv, CinL[2] >= X[1]-M2*b2 )\n",
    "    @constraint(cc_lin_conv, CinL[2] >= SlL-(1-b2)*M2)  \n",
    "    @constraint(cc_lin_conv, CoutL[2] == sum(ScL[1,:,tserM]))  \n",
    "\n",
    "    @constraint(cc_lin_conv, SauxL <= ones(Bool, serM)-SstL[1:SstL])  \n",
    "    @constraint(cc_lin_conv, CinL[1] == sum(SauxL))  \n",
    "\n",
    "\n",
    "    # Objective function\n",
    "    @objective(cc_lin_conv, Max, CoutL[1] - drL - phiL); \n",
    "    \n",
    "    JuMP.optimize!(cc_lin_conv)\n",
    "\n",
    "    # Save computed values\n",
    "    X[t+1] = JuMP.value(XL[2]);\n",
    "    Y[t+1] = JuMP.value(YL[2]);\n",
    "    Z[t+1] = JuMP.value(ZL[2]);\n",
    "\n",
    "\n",
    "    n[t]   = JuMP.value(nL);\n",
    "    Q[t]   = JuMP.value(QL);  \n",
    "    dr[t]  = JuMP.value(drL);\n",
    "\n",
    "    L[t+1] = JuMP.value(LL[2]);\n",
    "    \n",
    "    S[t] = JuMP.value(SL);\n",
    "\n",
    "\n",
    "    phi[t] = JuMP.value(phiL);\n",
    "    \n",
    "    b1_opt[t] = JuMP.value(b1);\n",
    "    b2_opt[t] = JuMP.value(b2);\n",
    "    Cin[t+1] = JuMP.value(CinL[2]);\n",
    "    Cout[t+1] = JuMP.value(CoutL[2]);\n",
    "    Sc[t+1, :, :] = JuMP.value(ScL[2, :, :]);\n",
    "\n",
    "\n",
    "    J[t] = objective_value(cc_nl_fobj_os) #Repeated line\n",
    "\n",
    "    # Display results\n",
    "    println(\"Optimal solution:\")\n",
    "    println(\"Objective value = \", objective_value(cc_lin_conv))\n",
    "\n",
    "end"
   ]
  },
  {
   "cell_type": "code",
   "execution_count": 46,
   "id": "3de5fb5c",
   "metadata": {},
   "outputs": [
    {
     "data": {
      "text/plain": [
       "2×3 Matrix{Float64}:\n",
       " 0.0  0.0  0.0\n",
       " 0.0  0.0  0.0"
      ]
     },
     "execution_count": 46,
     "metadata": {},
     "output_type": "execute_result"
    }
   ],
   "source": [
    "ScL = zeros(serM, tserM)"
   ]
  },
  {
   "cell_type": "code",
   "execution_count": 47,
   "id": "ae4d855e",
   "metadata": {},
   "outputs": [
    {
     "data": {
      "text/plain": [
       "2×1 Matrix{Float64}:\n",
       " 0.0\n",
       " 0.0"
      ]
     },
     "execution_count": 47,
     "metadata": {},
     "output_type": "execute_result"
    }
   ],
   "source": [
    "sum(ScL, dims=2) # sum over the second dimension (tserM)"
   ]
  },
  {
   "cell_type": "code",
   "execution_count": 45,
   "id": "ccb00758",
   "metadata": {},
   "outputs": [
    {
     "data": {
      "text/plain": [
       "2"
      ]
     },
     "execution_count": 45,
     "metadata": {},
     "output_type": "execute_result"
    }
   ],
   "source": [
    "serM"
   ]
  },
  {
   "cell_type": "code",
   "execution_count": null,
   "id": "141d0d9b",
   "metadata": {},
   "outputs": [],
   "source": []
  }
 ],
 "metadata": {
  "kernelspec": {
   "display_name": "Julia 1.11.5",
   "language": "julia",
   "name": "julia-1.11"
  },
  "language_info": {
   "file_extension": ".jl",
   "mimetype": "application/julia",
   "name": "julia",
   "version": "1.11.5"
  }
 },
 "nbformat": 4,
 "nbformat_minor": 5
}
