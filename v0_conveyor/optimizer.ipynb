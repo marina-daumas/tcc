{
 "cells": [
  {
   "cell_type": "markdown",
   "id": "d38ead67",
   "metadata": {},
   "source": [
    "# Conveyor Model Optimizer\n",
    "\n",
    "Customers always enter in the first slot of the server "
   ]
  },
  {
   "cell_type": "code",
   "execution_count": 1,
   "id": "c7dfdb59",
   "metadata": {},
   "outputs": [
    {
     "data": {
      "text/plain": [
       "plotData (generic function with 1 method)"
      ]
     },
     "execution_count": 1,
     "metadata": {},
     "output_type": "execute_result"
    }
   ],
   "source": [
    "using JuMP\n",
    "using HiGHS\n",
    "using Juniper\n",
    "\n",
    "include(\"utils.jl\") # demand_generator_mat, printTable, plotData"
   ]
  },
  {
   "cell_type": "code",
   "execution_count": 20,
   "id": "fbed21b4",
   "metadata": {},
   "outputs": [],
   "source": [
    "# Parameters\n",
    "horiz = 10        # total horizon\n",
    "\n",
    "# bounds\n",
    "YM = 10              # max buffer legnth before dropping calls\n",
    "XM = 6               # max queue length \n",
    "phiM = 4             # max adimission to queue\n",
    "serM = 3            # number of servers\n",
    "tserM = 3            # max service time\n",
    "\n",
    "\n",
    "# iniital conditions\n",
    "X0 = 3\n",
    "Y0 = 2\n",
    "L0 = 0\n",
    "Z0 = 0\n",
    "\n",
    "createDemands = false\n",
    "if createDemands\n",
    "    d_mat = demand_generator_mat(1, 20, 5, \"uniform\", 1)\n",
    "    a_mat = demand_generator_mat(1, 20, 1,\"uniform\",0.5)\n",
    "else\n",
    "    d_fn = \"..//CC_simple//d_mat_Thu_22_May_2025_19_39_50.txt\";\n",
    "    a_fn = \"..//CC_simple//a_mat_Thu_22_May_2025_19_39_50.txt\";\n",
    "    d_mat = DelimitedFiles.readdlm(d_fn);\n",
    "    a_mat = DelimitedFiles.readdlm(a_fn);\n",
    "    \n",
    "end\n",
    "\n",
    "d = d_mat[1:horiz, 1];  # demand for incoming calls\n",
    "a = a_mat[1:horiz, 1];  # abandonment for calls"
   ]
  },
  {
   "cell_type": "code",
   "execution_count": 21,
   "id": "5c952f5e",
   "metadata": {},
   "outputs": [],
   "source": [
    "J = zeros(horiz)            # cost function\n",
    "X = zeros(Int, horiz+1)     # current number of customers in queue x(k)\n",
    "Y = zeros(Int, horiz+1)     # current number of customers in buffer y(k)  \n",
    "Z = zeros(Int, horiz+1)     # custumers served  \n",
    "L = zeros(Int, horiz+1)     # number of customers lost\n",
    "\n",
    "n = zeros(Int, horiz+1)     # number of empty slots in the queue\n",
    "Q = zeros(Int, horiz+1)     # custumers entering queue\n",
    "dr = zeros(Int, horiz+1)    # dropped due to full buffer\n",
    "\n",
    "phi = zeros(Int, horiz+1)     # number of customers admitted to queue\n",
    "Cin = zeros(Int, horiz+1)     # number of customers entering server\n",
    "Cout = zeros(Int, horiz+1)    # number of customers leaving server\n",
    "\n",
    "S = zeros(Int, horiz+1)                 # number of active servers\n",
    "Sl = zeros(Int, horiz+1)                # number of free servers\n",
    "Sst = zeros(Bool, horiz+1, serM)        # server status (0 - free, 1 - busy)\n",
    "Sc = zeros(Bool, horiz+1, serM, tserM)  # server conveyor\n",
    "Sin = zeros(Bool, horiz+1, serM, tserM) # server input\n",
    "\n",
    "Saux = zeros(Bool, horiz+1, serM)       # auxiliary server variable\n",
    "b1_opt = zeros(horiz)\n",
    "b2_opt = zeros(horiz)\n",
    "\n",
    "default_input = zeros(Bool, serM, tserM)  # default input for servers\n",
    "for i in 1:serM\n",
    "    default_input[i, 1] = 1\n",
    "end\n",
    "\n",
    "transition_matrix = zeros(Bool, tserM, tserM)\n",
    "for i in 1:tserM-1\n",
    "    transition_matrix[i, i+1] = 1\n",
    "end"
   ]
  },
  {
   "cell_type": "code",
   "execution_count": 22,
   "id": "96fd6d60",
   "metadata": {},
   "outputs": [
    {
     "data": {
      "text/plain": [
       "0"
      ]
     },
     "execution_count": 22,
     "metadata": {},
     "output_type": "execute_result"
    }
   ],
   "source": [
    "# initial conditions\n",
    "X[1] = X0\n",
    "Y[1] = Y0\n",
    "L[1] = L0\n",
    "Z[1] = Z0"
   ]
  },
  {
   "cell_type": "code",
   "execution_count": 23,
   "id": "541b5c67",
   "metadata": {},
   "outputs": [
    {
     "name": "stdout",
     "output_type": "stream",
     "text": [
      "Objective value = 2.0\n",
      "Objective value = 4.0\n",
      "Objective value = 3.0\n",
      "Objective value = 1.0\n",
      "Objective value = 4.0\n",
      "constraint 1: 4.0\n",
      "constraint 2: 0\n",
      "constraint 3: 13\n",
      "Cin: 0.0\n",
      "Sl: 0.0\n",
      "X: 6.0\n",
      "b2: 1.0\n",
      "M2: 16\n",
      "Sc"
     ]
    },
    {
     "data": {
      "text/plain": [
       "3×3 Matrix{Float64}:\n",
       " 1.0  0.0  0.0\n",
       " 1.0  0.0  0.0\n",
       " 1.0  0.0  0.0"
      ]
     },
     "metadata": {},
     "output_type": "display_data"
    },
    {
     "name": "stdout",
     "output_type": "stream",
     "text": [
      "Sst"
     ]
    },
    {
     "data": {
      "text/plain": [
       "3-element Vector{Float64}:\n",
       " 1.0\n",
       " 1.0\n",
       " 1.0"
      ]
     },
     "metadata": {},
     "output_type": "display_data"
    },
    {
     "name": "stdout",
     "output_type": "stream",
     "text": [
      "Saux"
     ]
    },
    {
     "data": {
      "text/plain": [
       "3-element Vector{Float64}:\n",
       " 0.0\n",
       " 0.0\n",
       " 0.0"
      ]
     },
     "metadata": {},
     "output_type": "display_data"
    },
    {
     "name": "stdout",
     "output_type": "stream",
     "text": [
      "Objective value = 2.0\n",
      "constraint 1: 5.0\n",
      "constraint 2: 0\n",
      "constraint 3: 13\n",
      "Cin: 0.0\n",
      "Sl: 0.0\n",
      "X: 6.0\n",
      "b2: 1.0\n",
      "M2: 16\n",
      "Sc"
     ]
    },
    {
     "data": {
      "text/plain": [
       "3×3 Matrix{Float64}:\n",
       " 0.0  1.0  0.0\n",
       " 0.0  1.0  0.0\n",
       " 0.0  1.0  0.0"
      ]
     },
     "metadata": {},
     "output_type": "display_data"
    },
    {
     "name": "stdout",
     "output_type": "stream",
     "text": [
      "Sst"
     ]
    },
    {
     "data": {
      "text/plain": [
       "3-element Vector{Float64}:\n",
       " 1.0\n",
       " 1.0\n",
       " 1.0"
      ]
     },
     "metadata": {},
     "output_type": "display_data"
    },
    {
     "name": "stdout",
     "output_type": "stream",
     "text": [
      "Saux"
     ]
    },
    {
     "data": {
      "text/plain": [
       "3-element Vector{Float64}:\n",
       " 0.0\n",
       " 0.0\n",
       " 0.0"
      ]
     },
     "metadata": {},
     "output_type": "display_data"
    },
    {
     "name": "stdout",
     "output_type": "stream",
     "text": [
      "Objective value = 1.0\n",
      "Objective value = 1.0\n",
      "Objective value = 4.0\n",
      "Objective value = 1.0\n"
     ]
    }
   ],
   "source": [
    "for t in 1:horiz\n",
    "    cc_lin_conv = Model(HiGHS.Optimizer)\n",
    "    set_silent(cc_lin_conv)\n",
    "    \n",
    "    # For the integer constraint on variable b\n",
    "    M1 = max(d[t], YM)+10; # must be larger than d[t] and n[t] \n",
    "    @variable(cc_lin_conv, b1, Bin);\n",
    "\n",
    "    M2 = max(X[t], serM)+10; # must be larger than x[k] and Sl[k]\n",
    "    @variable(cc_lin_conv, b2, Bin);\n",
    "\n",
    "    @variable(cc_lin_conv, 0 <= XL[1:2] <= XM, Int)    \n",
    "    @variable(cc_lin_conv, 0 <= YL[1:2] <= YM, Int)     \n",
    "    @variable(cc_lin_conv, 0 <= ZL[1:2], Int)  \n",
    "    @variable(cc_lin_conv, 0 <= LL[1:2], Int)         \n",
    "                           \n",
    "    @variable(cc_lin_conv, 0 <= nL <= YM, Int) \n",
    "    @variable(cc_lin_conv, 0 <= QL, Int)      \n",
    "    @variable(cc_lin_conv, 0 <= drL, Int)   \n",
    "    \n",
    "    @variable(cc_lin_conv, 0 <= phiL <= phiM, Int)   \n",
    "    @variable(cc_lin_conv, 0 <= CinL <= serM, Int)   \n",
    "    @variable(cc_lin_conv, 0 <= CoutL[1:2] <= serM, Int)    \n",
    "\n",
    "    @variable(cc_lin_conv, 0 <= SL <= serM, Int)  \n",
    "    @variable(cc_lin_conv, 0 <= SlL <= serM, Int)  \n",
    "    @variable(cc_lin_conv, 0 <= SstL[1:serM], Bin)  \n",
    "    @variable(cc_lin_conv, 0 <= ScL[1:2, 1:serM, 1:tserM], Bin) \n",
    "    @variable(cc_lin_conv, 0 <= SinL[1:serM, 1:tserM], Bin)\n",
    "    @variable(cc_lin_conv, 0 <= SauxL[1:serM], Bin)\n",
    "\n",
    "        \n",
    "    # Initial conditions of buffer and queue for each optimization\n",
    "    @constraint(cc_lin_conv, XL[1] == X[t])\n",
    "    @constraint(cc_lin_conv, YL[1] == Y[t])\n",
    "    @constraint(cc_lin_conv, ZL[1] == Z[t])\n",
    "    @constraint(cc_lin_conv, LL[1] == L[t])\n",
    "    @constraint(cc_lin_conv, CoutL[1] == Cout[t])\n",
    "    @constraint(cc_lin_conv, ScL[1, :, :] == Sc[t, :, :])  # server conveyor status\n",
    "\n",
    "    # Problem constraints  \n",
    "    @constraint(cc_lin_conv, XL[2] == XL[1] + phiL - a[t] - CinL)\n",
    "    @constraint(cc_lin_conv, YL[2] == YL[1] + QL - phiL)\n",
    "    @constraint(cc_lin_conv, ZL[2] == ZL[1] + CoutL[1])\n",
    "    @constraint(cc_lin_conv, LL[2] == LL[1] + drL + a[t])\n",
    "\n",
    "    @constraint(cc_lin_conv, nL == YM - YL[1] + phiL)  # number of empty slots in the queue\n",
    "    @constraint(cc_lin_conv, QL <= d[t])\n",
    "    @constraint(cc_lin_conv, QL <= nL)\n",
    "    @constraint(cc_lin_conv, QL >= d[t]-M1*b1)\n",
    "    @constraint(cc_lin_conv, QL >= nL-(1-b1)*M1)  \n",
    "\n",
    "    @constraint(cc_lin_conv, drL >= d[t]-nL)         \n",
    "    @constraint(cc_lin_conv, drL <= d[t]-QL) \n",
    "\n",
    "    @constraint(cc_lin_conv, SL == serM)              \n",
    "    @constraint(cc_lin_conv, SstL == sum(ScL[1,:,:], dims=2))  \n",
    "    @constraint(cc_lin_conv, SlL == SL - sum(SstL))    \n",
    "    @constraint(cc_lin_conv, [i=1:serM, j=1:tserM], SinL[i, j] == default_input[i, j] .* SauxL[i])\n",
    "    @constraint(cc_lin_conv, ScL[2, :, :] == ScL[1, :, :]*transition_matrix + SinL)\n",
    "\n",
    "    @constraint(cc_lin_conv, CinL <= XL[1]-a[t])\n",
    "    @constraint(cc_lin_conv, CinL <= SlL)\n",
    "    @constraint(cc_lin_conv, CinL >= XL[1]-a[t]-M2*b2 )\n",
    "    @constraint(cc_lin_conv, CinL >= SlL-(1-b2)*M2)  \n",
    "    @constraint(cc_lin_conv, CoutL[2] == sum(ScL[1,:,tserM]))  \n",
    "\n",
    "    @constraint(cc_lin_conv, SauxL <= ones(Bool, serM) - SstL)  \n",
    "    @constraint(cc_lin_conv, CinL == sum(SauxL))  \n",
    "\n",
    "    # Objective function\n",
    "    # @objective(cc_lin_conv, Max, CoutL[1] - LL[1] - phiL) \n",
    "    # @objective(cc_lin_conv, Max, Cin[1] - LL[1]) \n",
    "    @objective(cc_lin_conv, Max, phiL) # simplified version where phi will always be as big as possible\n",
    "\n",
    "    JuMP.optimize!(cc_lin_conv)\n",
    "\n",
    "    if t == 6 || t == 7\n",
    "        println(\"constraint 1: \", JuMP.value(XL[1])-a[t])\n",
    "        println(\"constraint 2: \", serM - sum(sum(JuMP.value.(Sc[t, :, :]), dims=2)))\n",
    "        println(\"constraint 3: \", max(JuMP.value(X[1]), serM)+10)\n",
    "\n",
    "        println(\"Cin: \", JuMP.value(CinL))\n",
    "        println(\"Sl: \", JuMP.value(SlL))\n",
    "        println(\"X: \", JuMP.value(XL[1]))\n",
    "\n",
    "        println(\"b2: \", JuMP.value(b2))\n",
    "        println(\"M2: \", JuMP.value(M2))\n",
    "        \n",
    "        print(\"Sc\")\n",
    "        display(JuMP.value.(ScL[1,:,:]))\n",
    "        print(\"Sst\")\n",
    "        display(JuMP.value.(SstL))\n",
    "        print(\"Saux\")\n",
    "        display(JuMP.value.(SauxL))\n",
    "    end\n",
    "    \n",
    "    status = termination_status(cc_lin_conv)\n",
    "    if (status == MOI.OPTIMAL || status == MOI.LOCALLY_SOLVED || status==MOI.ALMOST_LOCALLY_SOLVED) && has_values(cc_lin_conv)\n",
    "        # Save computed values\n",
    "        X[t+1] = JuMP.value(XL[2]);\n",
    "        Y[t+1] = JuMP.value(YL[2]);\n",
    "        Z[t+1] = JuMP.value(ZL[2]);\n",
    "        L[t+1] = JuMP.value(LL[2]);\n",
    "\n",
    "        n[t] = JuMP.value(nL);\n",
    "        Q[t] = JuMP.value(QL);  \n",
    "        dr[t] = JuMP.value(drL);\n",
    "        \n",
    "        phi[t] = JuMP.value(phiL);\n",
    "        Cin[t] = JuMP.value(CinL);\n",
    "        Cout[t+1] = JuMP.value(CoutL[2]);\n",
    "\n",
    "        S[t] = JuMP.value(SL);\n",
    "        Sl[t] = JuMP.value(SlL);\n",
    "        Sst[t, :] = JuMP.value.(SstL);\n",
    "        Sc[t+1, :, :] = JuMP.value.(ScL[2, :, :]);\n",
    "        Sin[t, :, :] = JuMP.value.(SinL);\n",
    "        Saux[t, :] = JuMP.value.(SauxL);\n",
    "\n",
    "        b1_opt[t] = JuMP.value(b1);\n",
    "        b2_opt[t] = JuMP.value(b2);\n",
    "\n",
    "        J[t] = objective_value(cc_lin_conv) # Repeated line\n",
    "\n",
    "        # Display results\n",
    "        # println(\"Optimal solution:\")\n",
    "        println(\"Objective value = \", objective_value(cc_lin_conv))\n",
    "    else\n",
    "        println(t, \" \", status)\n",
    "    end\n",
    "end"
   ]
  },
  {
   "cell_type": "code",
   "execution_count": 24,
   "id": "c54d8457",
   "metadata": {},
   "outputs": [
    {
     "name": "stdout",
     "output_type": "stream",
     "text": [
      "Results\n",
      "┌────────┬────────┬───────┬────────┬───────┬────────┬───────┬───────┬───────┬───────┬───────┐\n",
      "│\u001b[1m      t \u001b[0m│\u001b[1m      d \u001b[0m│\u001b[1m    dr \u001b[0m│\u001b[1m      n \u001b[0m│\u001b[1m     q \u001b[0m│\u001b[1m      Y \u001b[0m│\u001b[1m   phi \u001b[0m│\u001b[1m     X \u001b[0m│\u001b[1m   Cin \u001b[0m│\u001b[1m  Cout \u001b[0m│\u001b[1m     a \u001b[0m│\n",
      "├────────┼────────┼───────┼────────┼───────┼────────┼───────┼───────┼───────┼───────┼───────┤\n",
      "│  1.000 │  7.000 │ 0.000 │ 10.000 │ 7.000 │  2.000 │ 2.000 │ 3.000 │ 3.000 │ 0.000 │ 0.000 │\n",
      "│  2.000 │  3.000 │ 0.000 │  7.000 │ 3.000 │  7.000 │ 4.000 │ 2.000 │ 0.000 │ 0.000 │ 1.000 │\n",
      "│  3.000 │  3.000 │ 0.000 │  7.000 │ 3.000 │  6.000 │ 3.000 │ 5.000 │ 0.000 │ 0.000 │ 2.000 │\n",
      "│  4.000 │  7.000 │ 2.000 │  5.000 │ 5.000 │  6.000 │ 1.000 │ 6.000 │ 0.000 │ 0.000 │ 1.000 │\n",
      "│  5.000 │ 12.000 │ 8.000 │  4.000 │ 4.000 │ 10.000 │ 4.000 │ 6.000 │ 3.000 │ 3.000 │ 1.000 │\n",
      "│  6.000 │  9.000 │ 7.000 │  2.000 │ 2.000 │ 10.000 │ 2.000 │ 6.000 │ 0.000 │ 0.000 │ 2.000 │\n",
      "│  7.000 │  6.000 │ 5.000 │  1.000 │ 1.000 │ 10.000 │ 1.000 │ 6.000 │ 0.000 │ 0.000 │ 1.000 │\n",
      "│  8.000 │  3.000 │ 2.000 │  1.000 │ 1.000 │ 10.000 │ 1.000 │ 6.000 │ 0.000 │ 0.000 │ 1.000 │\n",
      "│  9.000 │  0.000 │ 0.000 │  4.000 │ 0.000 │ 10.000 │ 4.000 │ 6.000 │ 3.000 │ 3.000 │ 1.000 │\n",
      "│ 10.000 │  9.000 │ 4.000 │  5.000 │ 5.000 │  6.000 │ 1.000 │ 6.000 │ 0.000 │ 0.000 │ 1.000 │\n",
      "└────────┴────────┴───────┴────────┴───────┴────────┴───────┴───────┴───────┴───────┴───────┘\n"
     ]
    }
   ],
   "source": [
    "data = hcat(1:horiz, d, dr[1:horiz,1], n[1:horiz,1], Q[1:horiz,1], Y[1:horiz,1], phi[1:horiz, 1], X[1:horiz,1], Cin[1:horiz,1], Cout[1:horiz,1], a)\n",
    "header = ([\"t\", \"d\", \"dr\", \"n\", \"q\", \"Y\", \"phi\", \"X\", \"Cin\", \"Cout\", \"a\"]);\n",
    "printTable(data, header)"
   ]
  },
  {
   "cell_type": "code",
   "execution_count": 12,
   "id": "586e6d11",
   "metadata": {},
   "outputs": [
    {
     "name": "stdout",
     "output_type": "stream",
     "text": [
      "Results\n",
      "┌────────┬───────┬───────┬───────┬───────┐\n",
      "│\u001b[1m      t \u001b[0m│\u001b[1m     S \u001b[0m│\u001b[1m   Sst \u001b[0m│\u001b[1m    Sl \u001b[0m│\u001b[1m  Saux \u001b[0m│\n",
      "├────────┼───────┼───────┼───────┼───────┤\n",
      "│  1.000 │ 2.000 │ 0.000 │ 2.000 │ 1.000 │\n",
      "│  2.000 │ 2.000 │ 1.000 │ 0.000 │ 0.000 │\n",
      "│  3.000 │ 2.000 │ 1.000 │ 0.000 │ 0.000 │\n",
      "│  4.000 │ 2.000 │ 1.000 │ 0.000 │ 0.000 │\n",
      "│  5.000 │ 2.000 │ 1.000 │ 0.000 │ 0.000 │\n",
      "│  6.000 │ 2.000 │ 0.000 │ 2.000 │ 0.000 │\n",
      "│  7.000 │ 2.000 │ 0.000 │ 1.000 │ 1.000 │\n",
      "│  8.000 │ 2.000 │ 1.000 │ 0.000 │ 0.000 │\n",
      "│  9.000 │ 2.000 │ 1.000 │ 0.000 │ 0.000 │\n",
      "│ 10.000 │ 2.000 │ 1.000 │ 0.000 │ 0.000 │\n",
      "└────────┴───────┴───────┴───────┴───────┘\n"
     ]
    }
   ],
   "source": [
    "data = hcat(1:horiz, S[1:horiz,1], Sst[1:horiz,1], Sl[1:horiz,1], Saux[1:horiz,1])\n",
    "header = ([\"t\", \"S\", \"Sst\", \"Sl\", \"Saux\"]);\n",
    "printTable(data, header)"
   ]
  },
  {
   "cell_type": "code",
   "execution_count": 67,
   "id": "ccc1110e",
   "metadata": {},
   "outputs": [
    {
     "data": {
      "text/plain": [
       "2×4 Matrix{Float64}:\n",
       " 0.0  0.0  0.0  0.0\n",
       " 0.0  0.0  0.0  0.0"
      ]
     },
     "execution_count": 67,
     "metadata": {},
     "output_type": "execute_result"
    }
   ],
   "source": [
    "XL = zeros(2)    \n",
    "YL = zeros(2)      \n",
    "ZL = zeros(2)  \n",
    "LL = zeros(2)\n",
    "CoutL = zeros(2)    \n",
    "ScL = zeros(2, serM, tserM)\n",
    "SinL = zeros(serM, tserM)"
   ]
  },
  {
   "cell_type": "code",
   "execution_count": 69,
   "id": "263ca267",
   "metadata": {},
   "outputs": [
    {
     "name": "stdout",
     "output_type": "stream",
     "text": [
      "------------------------------------------------\n",
      "Cin: 2.0\n",
      "Sl: 2.0\n",
      "X: 3.0\n",
      "Y: 2.0\n",
      "M1: 20.0\n",
      "M2: 13\n",
      "Sc"
     ]
    },
    {
     "data": {
      "text/plain": [
       "2×4 Matrix{Float64}:\n",
       " 1.0  0.0  0.0  0.0\n",
       " 1.0  0.0  0.0  0.0"
      ]
     },
     "metadata": {},
     "output_type": "display_data"
    },
    {
     "name": "stdout",
     "output_type": "stream",
     "text": [
      "Sst"
     ]
    },
    {
     "data": {
      "text/plain": [
       "2×1 Matrix{Float64}:\n",
       " 0.0\n",
       " 0.0"
      ]
     },
     "metadata": {},
     "output_type": "display_data"
    },
    {
     "name": "stdout",
     "output_type": "stream",
     "text": [
      "Saux"
     ]
    },
    {
     "data": {
      "text/plain": [
       "2×1 Matrix{Float64}:\n",
       " 1.0\n",
       " 1.0"
      ]
     },
     "metadata": {},
     "output_type": "display_data"
    },
    {
     "name": "stdout",
     "output_type": "stream",
     "text": [
      "Sin"
     ]
    },
    {
     "data": {
      "text/plain": [
       "2×4 Matrix{Float64}:\n",
       " 1.0  0.0  0.0  0.0\n",
       " 1.0  0.0  0.0  0.0"
      ]
     },
     "metadata": {},
     "output_type": "display_data"
    },
    {
     "name": "stdout",
     "output_type": "stream",
     "text": [
      "------------------------------------------------\n",
      "Cin: 0.0\n",
      "Sl: 0.0\n",
      "X: 3.0\n",
      "Y: 7.0\n",
      "M1: 20.0\n",
      "M2: 13\n",
      "Sc"
     ]
    },
    {
     "data": {
      "text/plain": [
       "2×4 Matrix{Float64}:\n",
       " 0.0  1.0  0.0  0.0\n",
       " 0.0  1.0  0.0  0.0"
      ]
     },
     "metadata": {},
     "output_type": "display_data"
    },
    {
     "name": "stdout",
     "output_type": "stream",
     "text": [
      "Sst"
     ]
    },
    {
     "data": {
      "text/plain": [
       "2×1 Matrix{Float64}:\n",
       " 1.0\n",
       " 1.0"
      ]
     },
     "metadata": {},
     "output_type": "display_data"
    },
    {
     "name": "stdout",
     "output_type": "stream",
     "text": [
      "Saux"
     ]
    },
    {
     "data": {
      "text/plain": [
       "2×1 Matrix{Float64}:\n",
       " 0.0\n",
       " 0.0"
      ]
     },
     "metadata": {},
     "output_type": "display_data"
    },
    {
     "name": "stdout",
     "output_type": "stream",
     "text": [
      "Sin"
     ]
    },
    {
     "data": {
      "text/plain": [
       "2×4 Matrix{Float64}:\n",
       " 0.0  0.0  0.0  0.0\n",
       " 0.0  0.0  0.0  0.0"
      ]
     },
     "metadata": {},
     "output_type": "display_data"
    },
    {
     "name": "stdout",
     "output_type": "stream",
     "text": [
      "------------------------------------------------\n",
      "Cin: 0.0\n",
      "Sl: 0.0\n",
      "X: 4.0\n",
      "Y: 8.0\n",
      "M1: 20.0\n",
      "M2: 14\n",
      "Sc"
     ]
    },
    {
     "data": {
      "text/plain": [
       "2×4 Matrix{Float64}:\n",
       " 0.0  0.0  1.0  0.0\n",
       " 0.0  0.0  1.0  0.0"
      ]
     },
     "metadata": {},
     "output_type": "display_data"
    },
    {
     "name": "stdout",
     "output_type": "stream",
     "text": [
      "Sst"
     ]
    },
    {
     "data": {
      "text/plain": [
       "2×1 Matrix{Float64}:\n",
       " 1.0\n",
       " 1.0"
      ]
     },
     "metadata": {},
     "output_type": "display_data"
    },
    {
     "name": "stdout",
     "output_type": "stream",
     "text": [
      "Saux"
     ]
    },
    {
     "data": {
      "text/plain": [
       "2×1 Matrix{Float64}:\n",
       " 0.0\n",
       " 0.0"
      ]
     },
     "metadata": {},
     "output_type": "display_data"
    },
    {
     "name": "stdout",
     "output_type": "stream",
     "text": [
      "Sin"
     ]
    },
    {
     "data": {
      "text/plain": [
       "2×4 Matrix{Float64}:\n",
       " 0.0  0.0  0.0  0.0\n",
       " 0.0  0.0  0.0  0.0"
      ]
     },
     "metadata": {},
     "output_type": "display_data"
    },
    {
     "name": "stdout",
     "output_type": "stream",
     "text": [
      "------------------------------------------------\n",
      "Cin: 0.0\n",
      "Sl: 0.0\n",
      "X: 4.0\n",
      "Y: 9.0\n",
      "M1: 20.0\n",
      "M2: 14\n",
      "Sc"
     ]
    },
    {
     "data": {
      "text/plain": [
       "2×4 Matrix{Float64}:\n",
       " 0.0  0.0  0.0  1.0\n",
       " 0.0  0.0  0.0  1.0"
      ]
     },
     "metadata": {},
     "output_type": "display_data"
    },
    {
     "name": "stdout",
     "output_type": "stream",
     "text": [
      "Sst"
     ]
    },
    {
     "data": {
      "text/plain": [
       "2×1 Matrix{Float64}:\n",
       " 1.0\n",
       " 1.0"
      ]
     },
     "metadata": {},
     "output_type": "display_data"
    },
    {
     "name": "stdout",
     "output_type": "stream",
     "text": [
      "Saux"
     ]
    },
    {
     "data": {
      "text/plain": [
       "2×1 Matrix{Float64}:\n",
       " 0.0\n",
       " 0.0"
      ]
     },
     "metadata": {},
     "output_type": "display_data"
    },
    {
     "name": "stdout",
     "output_type": "stream",
     "text": [
      "Sin"
     ]
    },
    {
     "data": {
      "text/plain": [
       "2×4 Matrix{Float64}:\n",
       " 0.0  0.0  0.0  0.0\n",
       " 0.0  0.0  0.0  0.0"
      ]
     },
     "metadata": {},
     "output_type": "display_data"
    },
    {
     "name": "stdout",
     "output_type": "stream",
     "text": [
      "------------------------------------------------\n",
      "Cin: 0.0\n",
      "Sl: 0.0\n",
      "X: 5.0\n",
      "Y: 10.0\n",
      "M1: 22.0\n",
      "M2: 15\n",
      "Sc"
     ]
    },
    {
     "data": {
      "text/plain": [
       "2×4 Matrix{Float64}:\n",
       " 0.0  0.0  0.0  0.0\n",
       " 0.0  0.0  0.0  0.0"
      ]
     },
     "metadata": {},
     "output_type": "display_data"
    },
    {
     "name": "stdout",
     "output_type": "stream",
     "text": [
      "Sst"
     ]
    },
    {
     "data": {
      "text/plain": [
       "2×1 Matrix{Float64}:\n",
       " 1.0\n",
       " 1.0"
      ]
     },
     "metadata": {},
     "output_type": "display_data"
    },
    {
     "name": "stdout",
     "output_type": "stream",
     "text": [
      "Saux"
     ]
    },
    {
     "data": {
      "text/plain": [
       "2×1 Matrix{Float64}:\n",
       " 0.0\n",
       " 0.0"
      ]
     },
     "metadata": {},
     "output_type": "display_data"
    },
    {
     "name": "stdout",
     "output_type": "stream",
     "text": [
      "Sin"
     ]
    },
    {
     "data": {
      "text/plain": [
       "2×4 Matrix{Float64}:\n",
       " 0.0  0.0  0.0  0.0\n",
       " 0.0  0.0  0.0  0.0"
      ]
     },
     "metadata": {},
     "output_type": "display_data"
    },
    {
     "name": "stdout",
     "output_type": "stream",
     "text": [
      "------------------------------------------------\n",
      "Cin: 2.0\n",
      "Sl: 2.0\n",
      "X: 6.0\n",
      "Y: 10.0\n",
      "M1: 20.0\n",
      "M2: 16\n",
      "Sc"
     ]
    },
    {
     "data": {
      "text/plain": [
       "2×4 Matrix{Float64}:\n",
       " 1.0  0.0  0.0  0.0\n",
       " 1.0  0.0  0.0  0.0"
      ]
     },
     "metadata": {},
     "output_type": "display_data"
    },
    {
     "name": "stdout",
     "output_type": "stream",
     "text": [
      "Sst"
     ]
    },
    {
     "data": {
      "text/plain": [
       "2×1 Matrix{Float64}:\n",
       " 0.0\n",
       " 0.0"
      ]
     },
     "metadata": {},
     "output_type": "display_data"
    },
    {
     "name": "stdout",
     "output_type": "stream",
     "text": [
      "Saux"
     ]
    },
    {
     "data": {
      "text/plain": [
       "2×1 Matrix{Float64}:\n",
       " 1.0\n",
       " 1.0"
      ]
     },
     "metadata": {},
     "output_type": "display_data"
    },
    {
     "name": "stdout",
     "output_type": "stream",
     "text": [
      "Sin"
     ]
    },
    {
     "data": {
      "text/plain": [
       "2×4 Matrix{Float64}:\n",
       " 1.0  0.0  0.0  0.0\n",
       " 1.0  0.0  0.0  0.0"
      ]
     },
     "metadata": {},
     "output_type": "display_data"
    },
    {
     "name": "stdout",
     "output_type": "stream",
     "text": [
      "------------------------------------------------\n",
      "Cin: 0.0\n",
      "Sl: 0.0\n",
      "X: 4.0\n",
      "Y: 10.0\n",
      "M1: 20.0\n",
      "M2: 14\n",
      "Sc"
     ]
    },
    {
     "data": {
      "text/plain": [
       "2×4 Matrix{Float64}:\n",
       " 0.0  1.0  0.0  0.0\n",
       " 0.0  1.0  0.0  0.0"
      ]
     },
     "metadata": {},
     "output_type": "display_data"
    },
    {
     "name": "stdout",
     "output_type": "stream",
     "text": [
      "Sst"
     ]
    },
    {
     "data": {
      "text/plain": [
       "2×1 Matrix{Float64}:\n",
       " 1.0\n",
       " 1.0"
      ]
     },
     "metadata": {},
     "output_type": "display_data"
    },
    {
     "name": "stdout",
     "output_type": "stream",
     "text": [
      "Saux"
     ]
    },
    {
     "data": {
      "text/plain": [
       "2×1 Matrix{Float64}:\n",
       " 0.0\n",
       " 0.0"
      ]
     },
     "metadata": {},
     "output_type": "display_data"
    },
    {
     "name": "stdout",
     "output_type": "stream",
     "text": [
      "Sin"
     ]
    },
    {
     "data": {
      "text/plain": [
       "2×4 Matrix{Float64}:\n",
       " 0.0  0.0  0.0  0.0\n",
       " 0.0  0.0  0.0  0.0"
      ]
     },
     "metadata": {},
     "output_type": "display_data"
    },
    {
     "name": "stdout",
     "output_type": "stream",
     "text": [
      "------------------------------------------------\n",
      "Cin: 0.0\n",
      "Sl: 0.0\n",
      "X: 5.0\n",
      "Y: 10.0\n",
      "M1: 20.0\n",
      "M2: 15\n",
      "Sc"
     ]
    },
    {
     "data": {
      "text/plain": [
       "2×4 Matrix{Float64}:\n",
       " 0.0  0.0  1.0  0.0\n",
       " 0.0  0.0  1.0  0.0"
      ]
     },
     "metadata": {},
     "output_type": "display_data"
    },
    {
     "name": "stdout",
     "output_type": "stream",
     "text": [
      "Sst"
     ]
    },
    {
     "data": {
      "text/plain": [
       "2×1 Matrix{Float64}:\n",
       " 1.0\n",
       " 1.0"
      ]
     },
     "metadata": {},
     "output_type": "display_data"
    },
    {
     "name": "stdout",
     "output_type": "stream",
     "text": [
      "Saux"
     ]
    },
    {
     "data": {
      "text/plain": [
       "2×1 Matrix{Float64}:\n",
       " 0.0\n",
       " 0.0"
      ]
     },
     "metadata": {},
     "output_type": "display_data"
    },
    {
     "name": "stdout",
     "output_type": "stream",
     "text": [
      "Sin"
     ]
    },
    {
     "data": {
      "text/plain": [
       "2×4 Matrix{Float64}:\n",
       " 0.0  0.0  0.0  0.0\n",
       " 0.0  0.0  0.0  0.0"
      ]
     },
     "metadata": {},
     "output_type": "display_data"
    },
    {
     "name": "stdout",
     "output_type": "stream",
     "text": [
      "------------------------------------------------\n",
      "Cin: 0.0\n",
      "Sl: 0.0\n",
      "X: 6.0\n",
      "Y: 10.0\n",
      "M1: 20.0\n",
      "M2: 16\n",
      "Sc"
     ]
    },
    {
     "data": {
      "text/plain": [
       "2×4 Matrix{Float64}:\n",
       " 0.0  0.0  0.0  1.0\n",
       " 0.0  0.0  0.0  1.0"
      ]
     },
     "metadata": {},
     "output_type": "display_data"
    },
    {
     "name": "stdout",
     "output_type": "stream",
     "text": [
      "Sst"
     ]
    },
    {
     "data": {
      "text/plain": [
       "2×1 Matrix{Float64}:\n",
       " 1.0\n",
       " 1.0"
      ]
     },
     "metadata": {},
     "output_type": "display_data"
    },
    {
     "name": "stdout",
     "output_type": "stream",
     "text": [
      "Saux"
     ]
    },
    {
     "data": {
      "text/plain": [
       "2×1 Matrix{Float64}:\n",
       " 0.0\n",
       " 0.0"
      ]
     },
     "metadata": {},
     "output_type": "display_data"
    },
    {
     "name": "stdout",
     "output_type": "stream",
     "text": [
      "Sin"
     ]
    },
    {
     "data": {
      "text/plain": [
       "2×4 Matrix{Float64}:\n",
       " 0.0  0.0  0.0  0.0\n",
       " 0.0  0.0  0.0  0.0"
      ]
     },
     "metadata": {},
     "output_type": "display_data"
    },
    {
     "name": "stdout",
     "output_type": "stream",
     "text": [
      "------------------------------------------------\n",
      "Cin: 0.0\n",
      "Sl: 0.0\n",
      "X: 7.0\n",
      "Y: 8.0\n",
      "M1: 20.0\n",
      "M2: 17\n",
      "Sc"
     ]
    },
    {
     "data": {
      "text/plain": [
       "2×4 Matrix{Float64}:\n",
       " 0.0  0.0  0.0  0.0\n",
       " 0.0  0.0  0.0  0.0"
      ]
     },
     "metadata": {},
     "output_type": "display_data"
    },
    {
     "name": "stdout",
     "output_type": "stream",
     "text": [
      "Sst"
     ]
    },
    {
     "data": {
      "text/plain": [
       "2×1 Matrix{Float64}:\n",
       " 1.0\n",
       " 1.0"
      ]
     },
     "metadata": {},
     "output_type": "display_data"
    },
    {
     "name": "stdout",
     "output_type": "stream",
     "text": [
      "Saux"
     ]
    },
    {
     "data": {
      "text/plain": [
       "2×1 Matrix{Float64}:\n",
       " 0.0\n",
       " 0.0"
      ]
     },
     "metadata": {},
     "output_type": "display_data"
    },
    {
     "name": "stdout",
     "output_type": "stream",
     "text": [
      "Sin"
     ]
    },
    {
     "data": {
      "text/plain": [
       "2×4 Matrix{Float64}:\n",
       " 0.0  0.0  0.0  0.0\n",
       " 0.0  0.0  0.0  0.0"
      ]
     },
     "metadata": {},
     "output_type": "display_data"
    }
   ],
   "source": [
    "phiL = 2\n",
    " \n",
    "for t in 1:horiz\n",
    "    println(\"------------------------------------------------\")\n",
    "    XL[1] = X[t]\n",
    "    YL[1] = Y[t]\n",
    "    ZL[1] = Z[t]\n",
    "    LL[1] = L[t]\n",
    "    CoutL[1] = Cout[t]\n",
    "    ScL[1, :, :] = Sc[t, :, :]  # server conveyor status\n",
    "    \n",
    "    nL = YM - YL[1] + phiL  # number of empty slots in the queue\n",
    "\n",
    "    M1 = max(d[t], YM)+10; # must be larger than d[t] and n[t] \n",
    "    if d[t] < nL\n",
    "        b1 = 1\n",
    "    else\n",
    "        b1 = 0\n",
    "    end\n",
    "\n",
    "    SL = serM\n",
    "    SstL = sum(ScL[1,:,:], dims=2)\n",
    "    SlL = SL - sum(SstL)\n",
    "    SauxL = ones(Bool, serM) - SstL\n",
    "\n",
    "    M2 = max(X[t], serM)+10; # must be larger than x[k] and Sl[k]\n",
    "    if X[t]-a[t] < SlL\n",
    "        b2 = 0\n",
    "    else\n",
    "        b2 = 1\n",
    "    end\n",
    "\n",
    "    for i in 1:serM\n",
    "        for j in 1:tserM\n",
    "            SinL[i, j] = default_input[i, j] .* SauxL[i]\n",
    "        end\n",
    "    end\n",
    "    \n",
    "    QL = min(d[t], nL)  # demand cannot be larger than number of empty slots in the queue\n",
    "    CinL = min(X[t]-a[t], SlL)  # Cin cannot be larger than X-a and Sl\n",
    "\n",
    "    drL = min(d[t]-QL)  # dropped calls cannot be larger than d[n]-nL and d[n]-QL\n",
    "\n",
    "    ScL[2, :, :] = ScL[1, :, :]*transition_matrix + SinL\n",
    "\n",
    "    XL[2] = XL[1] + phiL - a[t] - CinL\n",
    "    YL[2] = YL[1] + QL - phiL\n",
    "    ZL[2] = ZL[1] + CoutL[1]\n",
    "    LL[2] = LL[1] + drL + a[t]\n",
    "\n",
    "    CoutL[2] = sum(ScL[1,:,tserM])  # Cout is the sum of the last conveyor state\n",
    "\n",
    "    println(\"Cin: \", CinL)\n",
    "    println(\"Sl: \", SlL)\n",
    "    println(\"X: \", XL[1])\n",
    "    println(\"Y: \", YL[1])\n",
    "    println(\"M1: \", M1)\n",
    "    println(\"M2: \", M2)\n",
    "    print(\"Sc\")\n",
    "    display(ScL[2,:,:])\n",
    "    print(\"Sst\")\n",
    "    display(SstL)\n",
    "    print(\"Saux\")\n",
    "    display(SauxL)\n",
    "    print(\"Sin\")\n",
    "    display(SinL)\n",
    "\n",
    "    X[t+1] =XL[2];\n",
    "    Y[t+1] =YL[2];\n",
    "    Z[t+1] =ZL[2];\n",
    "    L[t+1] =LL[2];\n",
    "\n",
    "    n[t] = nL\n",
    "    Q[t] = QL  \n",
    "    dr[t] = drL\n",
    "        \n",
    "    phi[t] = (phiL);\n",
    "    Cin[t] = CinL\n",
    "    Cout[t+1] = CoutL[2]\n",
    "\n",
    "    S[t] = SL;\n",
    "    Sl[t] = SlL;\n",
    "    Sst[t, :] = SstL;\n",
    "    Sc[t+1, :, :] = ScL[2, :, :]\n",
    "    Sin[t, :, :] = SinL\n",
    "    Saux[t, :] = SauxL\n",
    "\n",
    "    b1_opt[t] = b1\n",
    "    b2_opt[t] = b2\n",
    "end\n"
   ]
  },
  {
   "cell_type": "code",
   "execution_count": 62,
   "id": "efe6c40e",
   "metadata": {},
   "outputs": [
    {
     "data": {
      "text/plain": [
       "2×4 Matrix{Bool}:\n",
       " 0  0  0  0\n",
       " 0  0  0  0"
      ]
     },
     "metadata": {},
     "output_type": "display_data"
    }
   ],
   "source": [
    "display(Sc[2,:,:])"
   ]
  },
  {
   "cell_type": "code",
   "execution_count": null,
   "id": "ac168287",
   "metadata": {},
   "outputs": [],
   "source": []
  }
 ],
 "metadata": {
  "kernelspec": {
   "display_name": "Julia 1.11.5",
   "language": "julia",
   "name": "julia-1.11"
  },
  "language_info": {
   "file_extension": ".jl",
   "mimetype": "application/julia",
   "name": "julia",
   "version": "1.11.5"
  }
 },
 "nbformat": 4,
 "nbformat_minor": 5
}
