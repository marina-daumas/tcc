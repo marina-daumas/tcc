{
 "cells": [
  {
   "cell_type": "markdown",
   "id": "4051e397",
   "metadata": {},
   "source": [
    "# Nonlinear Objective function\n",
    "\n",
    "The objective function for the one step ahead method is:\n",
    "$$\n",
    "J_{os} = c_s s(k) + c_b b(k+1)\n",
    "$$\n",
    "\n",
    "where $$b(k+1) = \\frac{L(k+1)}{L(k+1) + Z(k+1)}$$ is the balking rate,$s(k)$ is the number of servers and $c_s$ and $c_b$ are coefficients that need to be chosen.\n",
    "\n",
    "And for the omniscient model is:\n",
    "$$\n",
    "J_{om} = c_s\\sum_{k}{s(k)} + c_b\\sum_{k}{b(k+1)}\n",
    "$$"
   ]
  },
  {
   "cell_type": "markdown",
   "id": "65e50199",
   "metadata": {},
   "source": [
    "## Size of the demand set and horizon"
   ]
  },
  {
   "cell_type": "code",
   "execution_count": 1,
   "id": "597c1ed4",
   "metadata": {},
   "outputs": [],
   "source": [
    "N = 10; # number of example scenarios \n",
    "horiz = 20;\n",
    "createDemands = false;\n",
    "# createDemands = true;"
   ]
  },
  {
   "cell_type": "markdown",
   "id": "f84aa9ae",
   "metadata": {},
   "source": [
    "## Define structures: problem parameters & demand and abandonment sequences"
   ]
  },
  {
   "cell_type": "code",
   "execution_count": 2,
   "id": "5ca2aee7",
   "metadata": {},
   "outputs": [
    {
     "name": "stdout",
     "output_type": "stream",
     "text": [
      "\n",
      "Loading demands from files:\n",
      "d_mat_Thu_22_May_2025_19_39_50.txt\n",
      "a_mat_Thu_22_May_2025_19_39_50.txt\n",
      "\n",
      "d_mat = [7.0 7.0 13.0 13.0 13.0 14.0 9.0 3.0 6.0 2.0; 3.0 11.0 13.0 7.0 3.0 3.0 3.0 13.0 3.0 7.0; 3.0 11.0 13.0 7.0 11.0 6.0 3.0 12.0 10.0 8.0; 7.0 11.0 5.0 12.0 13.0 13.0 2.0 5.0 2.0 3.0; 12.0 13.0 7.0 4.0 4.0 11.0 10.0 2.0 6.0 1.0; 9.0 3.0 3.0 7.0 2.0 3.0 12.0 1.0 14.0 12.0; 6.0 4.0 13.0 9.0 9.0 11.0 8.0 7.0 11.0 10.0; 3.0 12.0 3.0 12.0 3.0 2.0 3.0 7.0 5.0 4.0; 0.0 8.0 10.0 11.0 6.0 4.0 1.0 8.0 14.0 9.0; 9.0 1.0 3.0 10.0 14.0 2.0 3.0 1.0 7.0 2.0; 11.0 5.0 12.0 5.0 1.0 5.0 4.0 14.0 4.0 0.0; 12.0 12.0 5.0 10.0 6.0 9.0 4.0 8.0 6.0 10.0; 12.0 13.0 4.0 5.0 2.0 4.0 12.0 8.0 0.0 2.0; 12.0 12.0 9.0 13.0 2.0 10.0 12.0 12.0 6.0 13.0; 2.0 10.0 10.0 13.0 9.0 12.0 9.0 7.0 13.0 1.0; 0.0 10.0 12.0 4.0 6.0 8.0 9.0 1.0 3.0 1.0; 6.0 12.0 4.0 7.0 8.0 9.0 7.0 2.0 7.0 1.0; 13.0 10.0 11.0 7.0 11.0 7.0 8.0 5.0 2.0 11.0; 6.0 10.0 4.0 7.0 9.0 9.0 4.0 1.0 2.0 6.0; 13.0 9.0 1.0 1.0 2.0 13.0 14.0 0.0 8.0 9.0]\n",
      "a_mat = [0.0 1.0 0.0 1.0 2.0 1.0 0.0 1.0 1.0 2.0; 1.0 1.0 2.0 1.0 2.0 1.0 0.0 0.0 1.0 0.0; 2.0 0.0 1.0 1.0 1.0 1.0 2.0 1.0 1.0 0.0; 1.0 0.0 0.0 2.0 0.0 0.0 2.0 1.0 1.0 1.0; 1.0 2.0 0.0 0.0 0.0 1.0 1.0 2.0 1.0 0.0; 2.0 1.0 0.0 2.0 1.0 1.0 0.0 2.0 0.0 2.0; 1.0 0.0 2.0 1.0 2.0 2.0 1.0 1.0 2.0 2.0; 1.0 1.0 0.0 1.0 1.0 1.0 1.0 0.0 1.0 0.0; 1.0 0.0 2.0 0.0 0.0 0.0 1.0 1.0 2.0 0.0; 1.0 2.0 1.0 1.0 1.0 1.0 1.0 0.0 1.0 2.0; 1.0 2.0 1.0 2.0 2.0 1.0 0.0 1.0 0.0 2.0; 1.0 1.0 0.0 1.0 1.0 2.0 0.0 2.0 0.0 2.0; 2.0 1.0 1.0 1.0 0.0 1.0 0.0 2.0 1.0 1.0; 2.0 0.0 1.0 2.0 2.0 1.0 0.0 0.0 1.0 1.0; 0.0 1.0 0.0 0.0 1.0 2.0 1.0 1.0 0.0 0.0; 1.0 1.0 2.0 0.0 0.0 1.0 1.0 1.0 1.0 1.0; 1.0 1.0 0.0 0.0 0.0 1.0 2.0 2.0 1.0 0.0; 1.0 1.0 1.0 0.0 2.0 2.0 0.0 1.0 1.0 0.0; 2.0 2.0 1.0 2.0 1.0 2.0 1.0 1.0 0.0 1.0; 1.0 1.0 1.0 0.0 1.0 0.0 1.0 0.0 2.0 2.0]\n"
     ]
    }
   ],
   "source": [
    "using DelimitedFiles\n",
    "\n",
    "module demand_stats\n",
    "    using DelimitedFiles\n",
    "    using Dates\n",
    "    #Matrix demand generator: d_mat = demand_generator_mat(N_dem,demand_length,dM,demand_type,std_dev)\n",
    "    include(\"demand_generator_mat.jl\")\n",
    "    N_dem  = Main.N;\n",
    "    demand_length = Main.horiz\n",
    "    dM = 14 #maximum demand\n",
    "    aM = 2  #maximum abandonment\n",
    "    demand_type = \"uniform\" #Can be normal ou Poisson\n",
    "    std_dev_d = 1\n",
    "    std_dev_a = 0.5\n",
    "    limit_count = 10 # max number of trials to create a new replacement demand in case of infeasibility\n",
    "\n",
    "    # Create demands or load them from files\n",
    "    d_mat = zeros(demand_length,N_dem)\n",
    "    a_mat = zeros(demand_length,N_dem)\n",
    "    if Main.createDemands #create demands\n",
    "        d_mat = demand_generator_mat(N_dem,demand_length,dM,demand_type,std_dev_d) #demand_generator_mat(3,20,14,\"uniform\",1)\n",
    "        a_mat = demand_generator_mat(N_dem,demand_length,aM,demand_type,std_dev_a)\n",
    "        # Output file names\n",
    "        date = Dates.format(Dates.now(), \"e_dd_u_yyyy_HH_MM_SS\")\n",
    "        d_mat_fn = \"d_mat_\" * string(date) * \".txt\";\n",
    "        a_mat_fn = \"a_mat_\" * string(date) * \".txt\";\n",
    "\n",
    "        writedlm(d_mat_fn, d_mat)\n",
    "        writedlm(a_mat_fn, a_mat)\n",
    "\n",
    "        # Print output file names\n",
    "        println(\"Data saved to files:\\n\", d_mat_fn, \"\\n\", a_mat_fn, \"\\n\")\n",
    "\n",
    "    else #load demands from file\n",
    "        #d_fn = \"d_mat_Thu_29_Aug_2024_12_35_06.txt\";\n",
    "        #a_fn = \"a_mat_Thu_29_Aug_2024_12_35_06.txt\";\n",
    "    \n",
    "        d_fn = \"d_mat_Thu_22_May_2025_19_39_50.txt\";\n",
    "        a_fn = \"a_mat_Thu_22_May_2025_19_39_50.txt\";\n",
    "\n",
    "        d_mat = DelimitedFiles.readdlm(d_fn);\n",
    "        a_mat = DelimitedFiles.readdlm(a_fn);\n",
    "\n",
    "        println(\"\\nLoading demands from files:\\n\", d_fn, \"\\n\", a_fn, \"\\n\")\n",
    "    end\n",
    "end\n",
    "\n",
    "# Extracts matrices from module demand_stats\n",
    "d_mat = demand_stats.d_mat;\n",
    "a_mat = demand_stats.a_mat;\n",
    "\n",
    "println(\"d_mat = \", d_mat)\n",
    "println(\"a_mat = \", a_mat)"
   ]
  },
  {
   "cell_type": "code",
   "execution_count": 3,
   "id": "73a28087",
   "metadata": {},
   "outputs": [
    {
     "data": {
      "text/plain": [
       "Main.CC_stats_nl_fobj"
      ]
     },
     "execution_count": 3,
     "metadata": {},
     "output_type": "execute_result"
    }
   ],
   "source": [
    "include(\"CCParameters.jl\")\n",
    "\n",
    "module CC_stats_nl_fobj\n",
    "    include(\"CC_nl_fobj_os.jl\")\n",
    "    include(\"CC_nl_fobj_om.jl\")\n",
    "    include(\"CC_compare_stats_nl_model.jl\")  #Call with method = \"os\"\n",
    "    #include(\"CC_nl_fobj_plot2.jl\")\n",
    "    #include(\"CC_Plots.jl\")\n",
    "    #include(\"CC_stats_os_tables.jl\")\n",
    "    #include(\"CC_stats_vs_cb.jl\")\n",
    "    #include(\"gen_cb_stats_fixed_demand_os.jl\")\n",
    "end"
   ]
  },
  {
   "cell_type": "markdown",
   "id": "44d640db",
   "metadata": {},
   "source": [
    "## One Step Ahead"
   ]
  },
  {
   "cell_type": "code",
   "execution_count": 4,
   "id": "13a74229",
   "metadata": {},
   "outputs": [
    {
     "name": "stdout",
     "output_type": "stream",
     "text": [
      "Demand #1\n",
      "\n",
      "******************************************************************************\n",
      "This program contains Ipopt, a library for large-scale nonlinear optimization.\n",
      " Ipopt is released as open source code under the Eclipse Public License (EPL).\n",
      "         For more information visit https://github.com/coin-or/Ipopt\n",
      "******************************************************************************\n",
      "\n",
      "Demand #2\n",
      "Demand #3\n",
      "Demand #4\n",
      "Demand #5\n",
      "Demand #6\n",
      "Demand #7\n",
      "Demand #8\n",
      "Demand #9\n",
      "Demand #10\n",
      " 56.891013 seconds (57.75 M allocations: 2.752 GiB, 3.00% gc time, 82.80% compilation time: 22% of which was recompilation)\n"
     ]
    },
    {
     "data": {
      "text/plain": [
       "([4.0 4.0 … 4.0 4.0; 4.999999945584401 0.0 … 0.0 0.0; … ; 5.0 5.0 … 5.0 5.0; 5.0 5.0 … 5.0 5.0], [2.0 2.0 … 2.0 2.0; 8.000000028877546 7.0 … 6.0 2.0; … ; 10.0 10.0 … 10.0 10.0; 10.0 10.0 … 10.0 10.0], [-6.98954893478676e-9 5.0 … 5.0 4.0; 5.0 5.0 … 5.0 2.0; … ; 4.0 0.0 … 2.0 5.0; 5.0 0.0 … 5.0 5.0], [0.0 0.0 … 0.0 0.0; -9.981822121663484e-9 0.14285714285714285 … 0.14285714285714285 0.2857142857142857; … ; 0.432 0.5808383233532934 … 0.35398230088495575 0.4; 0.4492753623188406 0.6022727272727273 … 0.35537190082644626 0.40384615384615385])"
      ]
     },
     "execution_count": 4,
     "metadata": {},
     "output_type": "execute_result"
    }
   ],
   "source": [
    "@time (X_os, Y_os, s_os, b_os) = CC_stats_nl_fobj.CC_compare_stats_nl_model(CCParameters.ic,CCParameters.bds,\n",
    "    CCParameters.exd, CCParameters.c_ser, CCParameters.c_blr, demand_stats,\"os\")\n"
   ]
  },
  {
   "cell_type": "code",
   "execution_count": 5,
   "id": "743b1c6d",
   "metadata": {},
   "outputs": [],
   "source": [
    "X_ost = \"X_os.txt\";\n",
    "writedlm(X_ost, X_os)"
   ]
  },
  {
   "cell_type": "code",
   "execution_count": 6,
   "id": "11d5a152",
   "metadata": {},
   "outputs": [
    {
     "data": {
      "text/plain": [
       "1×3 Matrix{Int64}:\n",
       " 140  150  160"
      ]
     },
     "execution_count": 6,
     "metadata": {},
     "output_type": "execute_result"
    }
   ],
   "source": [
    "# Results for diferent balking rate costs\n",
    "cb = [140 150 160]\n",
    "# CC_stats_nl_fobj.CC_stats_vs_cb(cb, CCParameters.ic, CCParameters.bds, CCParameters.exd, CCParameters.c_ser, demand_stats)"
   ]
  },
  {
   "cell_type": "markdown",
   "id": "6cf5b2ef",
   "metadata": {},
   "source": [
    "## Omniscient"
   ]
  },
  {
   "cell_type": "code",
   "execution_count": null,
   "id": "73a1c512",
   "metadata": {},
   "outputs": [
    {
     "name": "stdout",
     "output_type": "stream",
     "text": [
      "Demand #1\n",
      "Demand #2\n",
      "Demand #3\n",
      "Demand #"
     ]
    }
   ],
   "source": [
    "@time (X_om, Y_om, s_om, b_om) = CC_stats_nl_fobj.CC_compare_stats_nl_model(CCParameters.ic,CCParameters.bds,\n",
    "    CCParameters.exd, CCParameters.c_ser, CCParameters.c_blr, demand_stats,\"om\")"
   ]
  },
  {
   "cell_type": "code",
   "execution_count": null,
   "id": "d4e0db93",
   "metadata": {},
   "outputs": [],
   "source": [
    "X_omt = \"X_om.txt\";\n",
    "writedlm(X_omt, X_om)"
   ]
  },
  {
   "cell_type": "code",
   "execution_count": null,
   "id": "9c0a5f56",
   "metadata": {},
   "outputs": [],
   "source": [
    "# CC_stats_nl_fobj.CC_stats_vs_cb(cb, CCParameters.ic, CCParameters.bds, exd, CCParameters.c_ser, CCParameters.c_blr, demand_stats)"
   ]
  }
 ],
 "metadata": {
  "kernelspec": {
   "display_name": "Julia 1.11.5",
   "language": "julia",
   "name": "julia-1.11"
  },
  "language_info": {
   "file_extension": ".jl",
   "mimetype": "application/julia",
   "name": "julia",
   "version": "1.11.5"
  }
 },
 "nbformat": 4,
 "nbformat_minor": 5
}
