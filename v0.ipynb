{
 "cells": [
  {
   "cell_type": "markdown",
   "id": "64741534",
   "metadata": {},
   "source": [
    "# V0: Introdução de tempos de serviço não nulos"
   ]
  },
  {
   "cell_type": "code",
   "execution_count": 4,
   "id": "c4a966aa",
   "metadata": {},
   "outputs": [],
   "source": [
    "import Pkg\n",
    "\n",
    "using Pkg\n",
    "using JuMP\n",
    "using LinearAlgebra \n",
    "using Juniper\n",
    "using Ipopt"
   ]
  },
  {
   "cell_type": "code",
   "execution_count": 2,
   "id": "236d9e6c",
   "metadata": {},
   "outputs": [
    {
     "data": {
      "text/plain": [
       "MathOptInterface.OptimizerWithAttributes(IpoptMathOptInterfaceExt.Optimizer, Pair{MathOptInterface.AbstractOptimizerAttribute, Any}[MathOptInterface.RawOptimizerAttribute(\"print_level\") => 0])"
      ]
     },
     "execution_count": 2,
     "metadata": {},
     "output_type": "execute_result"
    }
   ],
   "source": [
    "optimizer = Juniper.Optimizer\n",
    "nl_solver = optimizer_with_attributes(Ipopt.Optimizer, \"print_level\" => 0)"
   ]
  },
  {
   "cell_type": "code",
   "execution_count": 5,
   "id": "05ad0a9b",
   "metadata": {},
   "outputs": [
    {
     "data": {
      "text/plain": [
       "1-dimensional DenseAxisArray{VariableRef,1,...} with index sets:\n",
       "    Dimension 1, 0:10\n",
       "And data, a 11-element Vector{VariableRef}:\n",
       " n[0]\n",
       " n[1]\n",
       " n[2]\n",
       " n[3]\n",
       " n[4]\n",
       " n[5]\n",
       " n[6]\n",
       " n[7]\n",
       " n[8]\n",
       " n[9]\n",
       " n[10]"
      ]
     },
     "execution_count": 5,
     "metadata": {},
     "output_type": "execute_result"
    }
   ],
   "source": [
    "m = Model(optimizer_with_attributes(optimizer, \"nl_solver\"=>nl_solver))\n",
    "\n",
    "Kf = 10 # final time\n",
    "\n",
    "@variable(m, d[0:Kf]>=0, Int)\n",
    "@variable(m, x[0:Kf]>=0, Int)\n",
    "@variable(m, phi[0:Kf]>=0, Int)\n",
    "@variable(m, s[0:Kf]>=0, Int)\n",
    "@variable(m, a[0:Kf]>=0, Int)\n",
    "@variable(m, y[0:Kf]>=0, Int)\n",
    "@variable(m, q[0:Kf]>=0, Int)\n",
    "@variable(m, z[0:Kf]>=0, Int)\n",
    "@variable(m, l[0:Kf]>=0, Int)\n",
    "@variable(m, dr[0:Kf]>=0, Int)\n",
    "@variable(m, n[0:Kf]>=0, Int)"
   ]
  },
  {
   "cell_type": "code",
   "execution_count": null,
   "id": "82eb1220",
   "metadata": {},
   "outputs": [
    {
     "data": {
      "text/latex": [
       "$ 10 x_{1} + 20 x_{2} + 12 x_{3} + 23 x_{4} + 42 x_{5} $"
      ],
      "text/plain": [
       "10 x[1] + 20 x[2] + 12 x[3] + 23 x[4] + 42 x[5]"
      ]
     },
     "execution_count": 11,
     "metadata": {},
     "output_type": "execute_result"
    }
   ],
   "source": [
    "cs = 10\n",
    "cb = 5\n",
    "\n",
    "function obj()\n",
    "\n",
    "\n",
    "    \n",
    "@objective(m, Min, "
   ]
  }
 ],
 "metadata": {
  "kernelspec": {
   "display_name": "Julia 1.11.5",
   "language": "julia",
   "name": "julia-1.11"
  },
  "language_info": {
   "file_extension": ".jl",
   "mimetype": "application/julia",
   "name": "julia",
   "version": "1.11.5"
  }
 },
 "nbformat": 4,
 "nbformat_minor": 5
}
